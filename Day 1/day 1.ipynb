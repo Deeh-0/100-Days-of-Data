{
 "cells": [
  {
   "cell_type": "markdown",
   "id": "b31713f8",
   "metadata": {},
   "source": [
    "### *The scope of this project is to predict the knowledge level of users, UNS, based on the following columns: the degree of study time for goal object materials, STG, the degree of repetition number of user for goal object materails, SCG, the degree of study time of user for related objects with goal object, STR, the exam performance of user for related objects with goal object, LPR, and the exam performance of user for goal objects, PEG.*"
   ]
  },
  {
   "cell_type": "markdown",
   "id": "1148c4dd",
   "metadata": {},
   "source": [
    "### *Import necessary data analysis libraries*"
   ]
  },
  {
   "cell_type": "code",
   "execution_count": 1,
   "id": "ce68bc04",
   "metadata": {},
   "outputs": [],
   "source": [
    "import numpy as np\n",
    "import pandas as pd"
   ]
  },
  {
   "cell_type": "markdown",
   "id": "a1528814",
   "metadata": {},
   "source": [
    "### *Import visualization libraries*"
   ]
  },
  {
   "cell_type": "code",
   "execution_count": 2,
   "id": "65cea988",
   "metadata": {},
   "outputs": [],
   "source": [
    "import matplotlib.pyplot as plt\n",
    "import seaborn as sns"
   ]
  },
  {
   "cell_type": "markdown",
   "id": "9a53125e",
   "metadata": {},
   "source": [
    "### *Import the dataset using panda and declare it as df*"
   ]
  },
  {
   "cell_type": "code",
   "execution_count": 3,
   "id": "91e60930",
   "metadata": {},
   "outputs": [],
   "source": [
    "df = pd.read_csv('Data_User_Modeling_Dataset_Hamdi Tolga KAHRAMAN.csv')"
   ]
  },
  {
   "cell_type": "markdown",
   "id": "9ff12fad",
   "metadata": {},
   "source": [
    "### *Exploratory Data Analysis, EDA*"
   ]
  },
  {
   "cell_type": "code",
   "execution_count": 4,
   "id": "784e222d",
   "metadata": {},
   "outputs": [
    {
     "data": {
      "text/html": [
       "<div>\n",
       "<style scoped>\n",
       "    .dataframe tbody tr th:only-of-type {\n",
       "        vertical-align: middle;\n",
       "    }\n",
       "\n",
       "    .dataframe tbody tr th {\n",
       "        vertical-align: top;\n",
       "    }\n",
       "\n",
       "    .dataframe thead th {\n",
       "        text-align: right;\n",
       "    }\n",
       "</style>\n",
       "<table border=\"1\" class=\"dataframe\">\n",
       "  <thead>\n",
       "    <tr style=\"text-align: right;\">\n",
       "      <th></th>\n",
       "      <th>STG</th>\n",
       "      <th>SCG</th>\n",
       "      <th>STR</th>\n",
       "      <th>LPR</th>\n",
       "      <th>PEG</th>\n",
       "      <th>UNS</th>\n",
       "    </tr>\n",
       "  </thead>\n",
       "  <tbody>\n",
       "    <tr>\n",
       "      <th>0</th>\n",
       "      <td>0.00</td>\n",
       "      <td>0.00</td>\n",
       "      <td>0.00</td>\n",
       "      <td>0.00</td>\n",
       "      <td>0.00</td>\n",
       "      <td>0</td>\n",
       "    </tr>\n",
       "    <tr>\n",
       "      <th>1</th>\n",
       "      <td>0.08</td>\n",
       "      <td>0.08</td>\n",
       "      <td>0.10</td>\n",
       "      <td>0.24</td>\n",
       "      <td>0.90</td>\n",
       "      <td>3</td>\n",
       "    </tr>\n",
       "    <tr>\n",
       "      <th>2</th>\n",
       "      <td>0.06</td>\n",
       "      <td>0.06</td>\n",
       "      <td>0.05</td>\n",
       "      <td>0.25</td>\n",
       "      <td>0.33</td>\n",
       "      <td>1</td>\n",
       "    </tr>\n",
       "    <tr>\n",
       "      <th>3</th>\n",
       "      <td>0.10</td>\n",
       "      <td>0.10</td>\n",
       "      <td>0.15</td>\n",
       "      <td>0.65</td>\n",
       "      <td>0.30</td>\n",
       "      <td>2</td>\n",
       "    </tr>\n",
       "    <tr>\n",
       "      <th>4</th>\n",
       "      <td>0.08</td>\n",
       "      <td>0.08</td>\n",
       "      <td>0.08</td>\n",
       "      <td>0.98</td>\n",
       "      <td>0.24</td>\n",
       "      <td>1</td>\n",
       "    </tr>\n",
       "  </tbody>\n",
       "</table>\n",
       "</div>"
      ],
      "text/plain": [
       "    STG   SCG   STR   LPR   PEG   UNS\n",
       "0  0.00  0.00  0.00  0.00  0.00     0\n",
       "1  0.08  0.08  0.10  0.24  0.90     3\n",
       "2  0.06  0.06  0.05  0.25  0.33     1\n",
       "3  0.10  0.10  0.15  0.65  0.30     2\n",
       "4  0.08  0.08  0.08  0.98  0.24     1"
      ]
     },
     "execution_count": 4,
     "metadata": {},
     "output_type": "execute_result"
    }
   ],
   "source": [
    "df.head()"
   ]
  },
  {
   "cell_type": "code",
   "execution_count": 6,
   "id": "2fd212c1",
   "metadata": {},
   "outputs": [
    {
     "data": {
      "text/html": [
       "<div>\n",
       "<style scoped>\n",
       "    .dataframe tbody tr th:only-of-type {\n",
       "        vertical-align: middle;\n",
       "    }\n",
       "\n",
       "    .dataframe tbody tr th {\n",
       "        vertical-align: top;\n",
       "    }\n",
       "\n",
       "    .dataframe thead th {\n",
       "        text-align: right;\n",
       "    }\n",
       "</style>\n",
       "<table border=\"1\" class=\"dataframe\">\n",
       "  <thead>\n",
       "    <tr style=\"text-align: right;\">\n",
       "      <th></th>\n",
       "      <th>STG</th>\n",
       "      <th>SCG</th>\n",
       "      <th>STR</th>\n",
       "      <th>LPR</th>\n",
       "      <th>PEG</th>\n",
       "      <th>UNS</th>\n",
       "    </tr>\n",
       "  </thead>\n",
       "  <tbody>\n",
       "    <tr>\n",
       "      <th>count</th>\n",
       "      <td>403.000000</td>\n",
       "      <td>403.000000</td>\n",
       "      <td>403.000000</td>\n",
       "      <td>403.000000</td>\n",
       "      <td>403.000000</td>\n",
       "      <td>403.000000</td>\n",
       "    </tr>\n",
       "    <tr>\n",
       "      <th>mean</th>\n",
       "      <td>0.353141</td>\n",
       "      <td>0.355940</td>\n",
       "      <td>0.457655</td>\n",
       "      <td>0.431342</td>\n",
       "      <td>0.456360</td>\n",
       "      <td>1.684864</td>\n",
       "    </tr>\n",
       "    <tr>\n",
       "      <th>std</th>\n",
       "      <td>0.212018</td>\n",
       "      <td>0.215531</td>\n",
       "      <td>0.246684</td>\n",
       "      <td>0.257545</td>\n",
       "      <td>0.266775</td>\n",
       "      <td>0.986195</td>\n",
       "    </tr>\n",
       "    <tr>\n",
       "      <th>min</th>\n",
       "      <td>0.000000</td>\n",
       "      <td>0.000000</td>\n",
       "      <td>0.000000</td>\n",
       "      <td>0.000000</td>\n",
       "      <td>0.000000</td>\n",
       "      <td>0.000000</td>\n",
       "    </tr>\n",
       "    <tr>\n",
       "      <th>25%</th>\n",
       "      <td>0.200000</td>\n",
       "      <td>0.200000</td>\n",
       "      <td>0.265000</td>\n",
       "      <td>0.250000</td>\n",
       "      <td>0.250000</td>\n",
       "      <td>1.000000</td>\n",
       "    </tr>\n",
       "    <tr>\n",
       "      <th>50%</th>\n",
       "      <td>0.300000</td>\n",
       "      <td>0.300000</td>\n",
       "      <td>0.440000</td>\n",
       "      <td>0.330000</td>\n",
       "      <td>0.400000</td>\n",
       "      <td>2.000000</td>\n",
       "    </tr>\n",
       "    <tr>\n",
       "      <th>75%</th>\n",
       "      <td>0.480000</td>\n",
       "      <td>0.510000</td>\n",
       "      <td>0.680000</td>\n",
       "      <td>0.650000</td>\n",
       "      <td>0.660000</td>\n",
       "      <td>3.000000</td>\n",
       "    </tr>\n",
       "    <tr>\n",
       "      <th>max</th>\n",
       "      <td>0.990000</td>\n",
       "      <td>0.900000</td>\n",
       "      <td>0.950000</td>\n",
       "      <td>0.990000</td>\n",
       "      <td>0.990000</td>\n",
       "      <td>3.000000</td>\n",
       "    </tr>\n",
       "  </tbody>\n",
       "</table>\n",
       "</div>"
      ],
      "text/plain": [
       "              STG         SCG         STR         LPR         PEG         UNS\n",
       "count  403.000000  403.000000  403.000000  403.000000  403.000000  403.000000\n",
       "mean     0.353141    0.355940    0.457655    0.431342    0.456360    1.684864\n",
       "std      0.212018    0.215531    0.246684    0.257545    0.266775    0.986195\n",
       "min      0.000000    0.000000    0.000000    0.000000    0.000000    0.000000\n",
       "25%      0.200000    0.200000    0.265000    0.250000    0.250000    1.000000\n",
       "50%      0.300000    0.300000    0.440000    0.330000    0.400000    2.000000\n",
       "75%      0.480000    0.510000    0.680000    0.650000    0.660000    3.000000\n",
       "max      0.990000    0.900000    0.950000    0.990000    0.990000    3.000000"
      ]
     },
     "execution_count": 6,
     "metadata": {},
     "output_type": "execute_result"
    }
   ],
   "source": [
    "df.describe()"
   ]
  },
  {
   "cell_type": "code",
   "execution_count": 24,
   "id": "0d4c0412",
   "metadata": {
    "scrolled": true
   },
   "outputs": [
    {
     "data": {
      "text/plain": [
       "Index(['STG', 'SCG', 'STR', 'LPR', 'PEG', ' UNS'], dtype='object')"
      ]
     },
     "execution_count": 24,
     "metadata": {},
     "output_type": "execute_result"
    }
   ],
   "source": [
    "df.columns"
   ]
  },
  {
   "cell_type": "code",
   "execution_count": 25,
   "id": "b0a37b95",
   "metadata": {},
   "outputs": [],
   "source": [
    "df.columns = df.columns.str.replace(' ', '') # remove whitespaces found in the df header"
   ]
  },
  {
   "cell_type": "code",
   "execution_count": 26,
   "id": "c8edc328",
   "metadata": {},
   "outputs": [
    {
     "data": {
      "text/plain": [
       "Index(['STG', 'SCG', 'STR', 'LPR', 'PEG', 'UNS'], dtype='object')"
      ]
     },
     "execution_count": 26,
     "metadata": {},
     "output_type": "execute_result"
    }
   ],
   "source": [
    "df.columns"
   ]
  },
  {
   "cell_type": "code",
   "execution_count": 15,
   "id": "8884d4de",
   "metadata": {
    "scrolled": true
   },
   "outputs": [
    {
     "data": {
      "text/plain": [
       "<AxesSubplot:>"
      ]
     },
     "execution_count": 15,
     "metadata": {},
     "output_type": "execute_result"
    },
    {
     "data": {
      "image/png": "[encoded data removed]",
      "text/plain": [
       "<Figure size 432x288 with 1 Axes>"
      ]
     },
     "metadata": {
      "needs_background": "light"
     },
     "output_type": "display_data"
    }
   ],
   "source": [
    "sns.heatmap(df.isnull(), yticklabels=False, cbar=False) # this is to check for missing values in the dataset"
   ]
  },
  {
   "cell_type": "markdown",
   "id": "80b0feb8",
   "metadata": {},
   "source": [
    "### *Machine Learning*"
   ]
  },
  {
   "cell_type": "markdown",
   "id": "0b5fa42c",
   "metadata": {},
   "source": [
    "### *To slpit the dataset into training and testing set, I imported the train test split from the model selection family*"
   ]
  },
  {
   "cell_type": "code",
   "execution_count": 27,
   "id": "065e3ffd",
   "metadata": {},
   "outputs": [],
   "source": [
    "from sklearn.model_selection import train_test_split "
   ]
  },
  {
   "cell_type": "markdown",
   "id": "3ff722fd",
   "metadata": {},
   "source": [
    "### *I declared X and y, which is used to split the dataset into train and test set, with the test set taking 30% of the entire dataset, at a random state of 101*"
   ]
  },
  {
   "cell_type": "code",
   "execution_count": 28,
   "id": "d39f3b2a",
   "metadata": {},
   "outputs": [],
   "source": [
    "X = df.drop('UNS', axis=1)\n",
    "y = df['UNS']\n",
    "\n",
    "X_train, X_test, y_train, y_test = train_test_split(X, y, test_size=0.3, random_state=101)"
   ]
  },
  {
   "cell_type": "markdown",
   "id": "04734b61",
   "metadata": {},
   "source": [
    "### *Import the Machine Learning Model, here we use logistic Regression, found in the Linear Model of SKLearn*"
   ]
  },
  {
   "cell_type": "code",
   "execution_count": 29,
   "id": "0aa7cb96",
   "metadata": {},
   "outputs": [],
   "source": [
    "from sklearn.linear_model import LogisticRegression"
   ]
  },
  {
   "cell_type": "markdown",
   "id": "1425b454",
   "metadata": {},
   "source": [
    "### *Instantiate the Machine Learning Model*"
   ]
  },
  {
   "cell_type": "code",
   "execution_count": 30,
   "id": "c556aeb6",
   "metadata": {},
   "outputs": [],
   "source": [
    "logmodel = LogisticRegression()"
   ]
  },
  {
   "cell_type": "markdown",
   "id": "8cb83582",
   "metadata": {},
   "source": [
    "### *Fit the training set into the Machine Learning Model*"
   ]
  },
  {
   "cell_type": "code",
   "execution_count": 31,
   "id": "078d332d",
   "metadata": {},
   "outputs": [
    {
     "data": {
      "text/plain": [
       "LogisticRegression()"
      ]
     },
     "execution_count": 31,
     "metadata": {},
     "output_type": "execute_result"
    }
   ],
   "source": [
    "logmodel.fit(X_train, y_train)"
   ]
  },
  {
   "cell_type": "markdown",
   "id": "c4c81148",
   "metadata": {},
   "source": [
    "### *Make predictions on new data, that is the test data*"
   ]
  },
  {
   "cell_type": "code",
   "execution_count": 34,
   "id": "c130c872",
   "metadata": {},
   "outputs": [],
   "source": [
    "predictions = logmodel.predict(X_test)"
   ]
  },
  {
   "cell_type": "markdown",
   "id": "a2ffd06b",
   "metadata": {},
   "source": [
    "### *Display predictions*"
   ]
  },
  {
   "cell_type": "code",
   "execution_count": 41,
   "id": "eb23f406",
   "metadata": {},
   "outputs": [
    {
     "data": {
      "text/plain": [
       "array([2, 1, 1, 1, 1, 2, 1, 3, 1, 2, 3, 3, 0, 2, 1, 2, 3, 3, 1, 0, 1, 2,\n",
       "       1, 2, 1, 1, 2, 3, 1, 3, 3, 1, 3, 2, 1, 1, 1, 2, 3, 3, 1, 3, 2, 2,\n",
       "       1, 2, 1, 1, 2, 3, 2, 1, 2, 2, 1, 3, 1, 3, 1, 3, 2, 3, 1, 2, 1, 3,\n",
       "       1, 2, 1, 2, 3, 3, 1, 2, 1, 0, 3, 1, 3, 1, 3, 1, 1, 1, 1, 1, 2, 3,\n",
       "       1, 1, 3, 0, 3, 2, 0, 1, 2, 3, 1, 3, 2, 3, 1, 2, 1, 3, 2, 1, 2, 3,\n",
       "       3, 1, 2, 1, 2, 1, 0, 1, 1, 3, 1], dtype=int64)"
      ]
     },
     "execution_count": 41,
     "metadata": {},
     "output_type": "execute_result"
    }
   ],
   "source": [
    "predictions"
   ]
  },
  {
   "cell_type": "markdown",
   "id": "62d29fda",
   "metadata": {},
   "source": [
    "### *Get the confusion matrix and classification report to evaluate the preformance of the Machine Learning Model. These metrics provide valuable insights into how well the model is performing, offering a comprehensive view of its precision across different classes.*"
   ]
  },
  {
   "cell_type": "code",
   "execution_count": 33,
   "id": "da16f6c1",
   "metadata": {},
   "outputs": [],
   "source": [
    "from sklearn.metrics import classification_report, confusion_matrix"
   ]
  },
  {
   "cell_type": "code",
   "execution_count": 35,
   "id": "de215ce1",
   "metadata": {},
   "outputs": [
    {
     "name": "stdout",
     "output_type": "stream",
     "text": [
      "[[ 6  6  0  0]\n",
      " [ 0 38  0  0]\n",
      " [ 0  7 31  2]\n",
      " [ 0  0  0 31]]\n",
      "\n",
      "\n",
      "              precision    recall  f1-score   support\n",
      "\n",
      "           0       1.00      0.50      0.67        12\n",
      "           1       0.75      1.00      0.85        38\n",
      "           2       1.00      0.78      0.87        40\n",
      "           3       0.94      1.00      0.97        31\n",
      "\n",
      "    accuracy                           0.88       121\n",
      "   macro avg       0.92      0.82      0.84       121\n",
      "weighted avg       0.90      0.88      0.87       121\n",
      "\n"
     ]
    }
   ],
   "source": [
    "print(confusion_matrix(y_test, predictions))\n",
    "\n",
    "print('\\n')\n",
    "print(classification_report(y_test, predictions))"
   ]
  },
  {
   "cell_type": "markdown",
   "id": "b1aa9c95",
   "metadata": {},
   "source": [
    "### *The confusion matrix provides a tabular representation of model prediction compared to actual truth across the various classes, with rows representing the actual class and columns, the predicted class*\n",
    "\n",
    "#### *Interpretation*\n",
    "#### *In the first row, there are 6 instances in class 0, which are correctly predicted, and 6 instances in class 1, which are incorrectly predicted.*\n",
    "#### *In the second row, all 38 cases of class 1 were accurately predicted.*\n",
    "#### *The third row has 40 instances of class 2. The model accurately predicted 31 cases, misclassifying 7 as class 1 and 2 as class 3.*\n",
    "#### *In the fourth row, all 31 cases of class 3 were accurately predicted.*"
   ]
  },
  {
   "cell_type": "markdown",
   "id": "3680200d",
   "metadata": {},
   "source": [
    "### *The classification matrix provides additional information on the performance of the machine learning model*"
   ]
  },
  {
   "cell_type": "markdown",
   "id": "4fb4201c",
   "metadata": {},
   "source": [
    "#### *Precision: The ability of the model to correctly identify positive instances. For example, for class 0, all predicted instances were correct 100% of the time.*\n",
    "#### *Recall (Sensitivity): The proportion of actual positive instances that were correctly identified by the model. For class 0, only 50% of actual instances were correctly identified.*\n",
    "#### *F1-score: The harmonic mean of precision and recall. It provides a balance between precision and recall.*\n",
    "#### *Support: The number of actual occurrences of each class in the dataset.*\n",
    "#### *Accuracy: Overall accuracy of the model across all classes.*\n",
    "#### *Macro Avg: The average precision, recall, and F1-score calculated for each class independently and then averaged.*\n",
    "#### *Weighted Avg: The average precision, recall, and F1-score calculated for each class, weighted by the number of instances in each class.*"
   ]
  },
  {
   "cell_type": "code",
   "execution_count": null,
   "id": "e0ffdda7",
   "metadata": {},
   "outputs": [],
   "source": []
  }
 ],
 "metadata": {
  "kernelspec": {
   "display_name": "Python 3 (ipykernel)",
   "language": "python",
   "name": "python3"
  },
  "language_info": {
   "codemirror_mode": {
    "name": "ipython",
    "version": 3
   },
   "file_extension": ".py",
   "mimetype": "text/x-python",
   "name": "python",
   "nbconvert_exporter": "python",
   "pygments_lexer": "ipython3",
   "version": "3.9.7"
  }
 },
 "nbformat": 4,
 "nbformat_minor": 5
}
