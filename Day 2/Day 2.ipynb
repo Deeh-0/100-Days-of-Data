{
 "cells": [
  {
   "cell_type": "markdown",
   "id": "b6796855",
   "metadata": {},
   "source": [
    "### *The thought behind this project was to derive as much insights as I could from the dataset, I will definately be visiting this some time in the future*"
   ]
  },
  {
   "cell_type": "code",
   "execution_count": 1,
   "id": "d350dfce",
   "metadata": {},
   "outputs": [],
   "source": [
    "#import necessary libraries for data manipulation and visualization\n",
    "\n",
    "import numpy as np\n",
    "import pandas as pd\n",
    "import matplotlib.pyplot as plt\n",
    "import seaborn as sns"
   ]
  },
  {
   "cell_type": "code",
   "execution_count": 2,
   "id": "0fce062c",
   "metadata": {},
   "outputs": [],
   "source": [
    "#import the dataset that will be worked on\n",
    "\n",
    "housing = pd.read_csv('nigeria_houses_data.csv')"
   ]
  },
  {
   "cell_type": "markdown",
   "id": "5203fc00",
   "metadata": {},
   "source": [
    "#### *Exploratory Data Analysis*"
   ]
  },
  {
   "cell_type": "code",
   "execution_count": 3,
   "id": "4f48d981",
   "metadata": {},
   "outputs": [
    {
     "data": {
      "text/html": [
       "<div>\n",
       "<style scoped>\n",
       "    .dataframe tbody tr th:only-of-type {\n",
       "        vertical-align: middle;\n",
       "    }\n",
       "\n",
       "    .dataframe tbody tr th {\n",
       "        vertical-align: top;\n",
       "    }\n",
       "\n",
       "    .dataframe thead th {\n",
       "        text-align: right;\n",
       "    }\n",
       "</style>\n",
       "<table border=\"1\" class=\"dataframe\">\n",
       "  <thead>\n",
       "    <tr style=\"text-align: right;\">\n",
       "      <th></th>\n",
       "      <th>bedrooms</th>\n",
       "      <th>bathrooms</th>\n",
       "      <th>toilets</th>\n",
       "      <th>parking_space</th>\n",
       "      <th>title</th>\n",
       "      <th>town</th>\n",
       "      <th>state</th>\n",
       "      <th>price</th>\n",
       "    </tr>\n",
       "  </thead>\n",
       "  <tbody>\n",
       "    <tr>\n",
       "      <th>0</th>\n",
       "      <td>6.0</td>\n",
       "      <td>5.0</td>\n",
       "      <td>5.0</td>\n",
       "      <td>4.0</td>\n",
       "      <td>Detached Duplex</td>\n",
       "      <td>Mabushi</td>\n",
       "      <td>Abuja</td>\n",
       "      <td>450000000.0</td>\n",
       "    </tr>\n",
       "    <tr>\n",
       "      <th>1</th>\n",
       "      <td>4.0</td>\n",
       "      <td>5.0</td>\n",
       "      <td>5.0</td>\n",
       "      <td>4.0</td>\n",
       "      <td>Terraced Duplexes</td>\n",
       "      <td>Katampe</td>\n",
       "      <td>Abuja</td>\n",
       "      <td>800000000.0</td>\n",
       "    </tr>\n",
       "    <tr>\n",
       "      <th>2</th>\n",
       "      <td>4.0</td>\n",
       "      <td>5.0</td>\n",
       "      <td>5.0</td>\n",
       "      <td>4.0</td>\n",
       "      <td>Detached Duplex</td>\n",
       "      <td>Lekki</td>\n",
       "      <td>Lagos</td>\n",
       "      <td>120000000.0</td>\n",
       "    </tr>\n",
       "    <tr>\n",
       "      <th>3</th>\n",
       "      <td>4.0</td>\n",
       "      <td>4.0</td>\n",
       "      <td>5.0</td>\n",
       "      <td>6.0</td>\n",
       "      <td>Detached Duplex</td>\n",
       "      <td>Ajah</td>\n",
       "      <td>Lagos</td>\n",
       "      <td>40000000.0</td>\n",
       "    </tr>\n",
       "    <tr>\n",
       "      <th>4</th>\n",
       "      <td>4.0</td>\n",
       "      <td>4.0</td>\n",
       "      <td>5.0</td>\n",
       "      <td>2.0</td>\n",
       "      <td>Semi Detached Duplex</td>\n",
       "      <td>Lekki</td>\n",
       "      <td>Lagos</td>\n",
       "      <td>75000000.0</td>\n",
       "    </tr>\n",
       "  </tbody>\n",
       "</table>\n",
       "</div>"
      ],
      "text/plain": [
       "   bedrooms  bathrooms  toilets  parking_space                 title     town  \\\n",
       "0       6.0        5.0      5.0            4.0       Detached Duplex  Mabushi   \n",
       "1       4.0        5.0      5.0            4.0     Terraced Duplexes  Katampe   \n",
       "2       4.0        5.0      5.0            4.0       Detached Duplex    Lekki   \n",
       "3       4.0        4.0      5.0            6.0       Detached Duplex     Ajah   \n",
       "4       4.0        4.0      5.0            2.0  Semi Detached Duplex    Lekki   \n",
       "\n",
       "   state        price  \n",
       "0  Abuja  450000000.0  \n",
       "1  Abuja  800000000.0  \n",
       "2  Lagos  120000000.0  \n",
       "3  Lagos   40000000.0  \n",
       "4  Lagos   75000000.0  "
      ]
     },
     "execution_count": 3,
     "metadata": {},
     "output_type": "execute_result"
    }
   ],
   "source": [
    "housing.head() #the first 5 records in the dataframe"
   ]
  },
  {
   "cell_type": "code",
   "execution_count": 4,
   "id": "c938035b",
   "metadata": {},
   "outputs": [
    {
     "data": {
      "text/plain": [
       "Index(['bedrooms', 'bathrooms', 'toilets', 'parking_space', 'title', 'town',\n",
       "       'state', 'price'],\n",
       "      dtype='object')"
      ]
     },
     "execution_count": 4,
     "metadata": {},
     "output_type": "execute_result"
    }
   ],
   "source": [
    "housing.columns #the column names in the dataframe"
   ]
  },
  {
   "cell_type": "code",
   "execution_count": 5,
   "id": "b3162d62",
   "metadata": {},
   "outputs": [],
   "source": [
    "housing.rename(columns = {'title':'house_type'}, inplace=True) #changing the name of a column from title to house_type."
   ]
  },
  {
   "cell_type": "code",
   "execution_count": 6,
   "id": "3f0bc742",
   "metadata": {},
   "outputs": [
    {
     "data": {
      "text/plain": [
       "Index(['bedrooms', 'bathrooms', 'toilets', 'parking_space', 'house_type',\n",
       "       'town', 'state', 'price'],\n",
       "      dtype='object')"
      ]
     },
     "execution_count": 6,
     "metadata": {},
     "output_type": "execute_result"
    }
   ],
   "source": [
    "housing.columns #checking to confirm the changes we made"
   ]
  },
  {
   "cell_type": "code",
   "execution_count": 7,
   "id": "6c96ed05",
   "metadata": {},
   "outputs": [
    {
     "data": {
      "text/plain": [
       "(24326, 8)"
      ]
     },
     "execution_count": 7,
     "metadata": {},
     "output_type": "execute_result"
    }
   ],
   "source": [
    "housing.shape #this returns the number of rows and columns in the dataframe, in a matrix form"
   ]
  },
  {
   "cell_type": "code",
   "execution_count": 8,
   "id": "0da8a50c",
   "metadata": {},
   "outputs": [
    {
     "name": "stdout",
     "output_type": "stream",
     "text": [
      "<class 'pandas.core.frame.DataFrame'>\n",
      "RangeIndex: 24326 entries, 0 to 24325\n",
      "Data columns (total 8 columns):\n",
      " #   Column         Non-Null Count  Dtype  \n",
      "---  ------         --------------  -----  \n",
      " 0   bedrooms       24326 non-null  float64\n",
      " 1   bathrooms      24326 non-null  float64\n",
      " 2   toilets        24326 non-null  float64\n",
      " 3   parking_space  24326 non-null  float64\n",
      " 4   house_type     24326 non-null  object \n",
      " 5   town           24326 non-null  object \n",
      " 6   state          24326 non-null  object \n",
      " 7   price          24326 non-null  float64\n",
      "dtypes: float64(5), object(3)\n",
      "memory usage: 1.5+ MB\n"
     ]
    }
   ],
   "source": [
    "housing.info() #this returns the various columns, their names, non-null count and data type"
   ]
  },
  {
   "cell_type": "code",
   "execution_count": 9,
   "id": "1ba8384f",
   "metadata": {},
   "outputs": [
    {
     "data": {
      "text/plain": [
       "bedrooms         0\n",
       "bathrooms        0\n",
       "toilets          0\n",
       "parking_space    0\n",
       "house_type       0\n",
       "town             0\n",
       "state            0\n",
       "price            0\n",
       "dtype: int64"
      ]
     },
     "execution_count": 9,
     "metadata": {},
     "output_type": "execute_result"
    }
   ],
   "source": [
    "housing.isnull().sum() # this is to check for null values in the dataframe"
   ]
  },
  {
   "cell_type": "code",
   "execution_count": 10,
   "id": "3d8323a5",
   "metadata": {
    "scrolled": true
   },
   "outputs": [
    {
     "data": {
      "text/plain": [
       "<AxesSubplot:>"
      ]
     },
     "execution_count": 10,
     "metadata": {},
     "output_type": "execute_result"
    },
    {
     "data": {
      "image/png": "[encoded data removed]",
      "text/plain": [
       "<Figure size 432x288 with 1 Axes>"
      ]
     },
     "metadata": {
      "needs_background": "light"
     },
     "output_type": "display_data"
    }
   ],
   "source": [
    "sns.heatmap(housing.isnull(), yticklabels=False, cbar=False)"
   ]
  },
  {
   "cell_type": "markdown",
   "id": "459f661f",
   "metadata": {},
   "source": [
    "#### *The output above is blank because there is no null value in the dataframe, the presence of null values would be seen by lines under each column.*"
   ]
  },
  {
   "cell_type": "code",
   "execution_count": 11,
   "id": "52811f06",
   "metadata": {},
   "outputs": [
    {
     "data": {
      "text/plain": [
       "bedrooms           9\n",
       "bathrooms          9\n",
       "toilets            9\n",
       "parking_space      9\n",
       "house_type         7\n",
       "town             189\n",
       "state             25\n",
       "price            539\n",
       "dtype: int64"
      ]
     },
     "execution_count": 11,
     "metadata": {},
     "output_type": "execute_result"
    }
   ],
   "source": [
    "housing.nunique() #to count the number of unique values in each column"
   ]
  },
  {
   "cell_type": "code",
   "execution_count": 12,
   "id": "76fa40f0",
   "metadata": {},
   "outputs": [],
   "source": [
    "housing['formatted_price'] = housing['price'].apply(lambda x: ' {:,.2f}'.format(x)) "
   ]
  },
  {
   "cell_type": "markdown",
   "id": "c881de80",
   "metadata": {},
   "source": [
    "#### *To format the values in the price column so as to make it legible*"
   ]
  },
  {
   "cell_type": "code",
   "execution_count": 13,
   "id": "e9df8f25",
   "metadata": {},
   "outputs": [
    {
     "data": {
      "text/html": [
       "<div>\n",
       "<style scoped>\n",
       "    .dataframe tbody tr th:only-of-type {\n",
       "        vertical-align: middle;\n",
       "    }\n",
       "\n",
       "    .dataframe tbody tr th {\n",
       "        vertical-align: top;\n",
       "    }\n",
       "\n",
       "    .dataframe thead th {\n",
       "        text-align: right;\n",
       "    }\n",
       "</style>\n",
       "<table border=\"1\" class=\"dataframe\">\n",
       "  <thead>\n",
       "    <tr style=\"text-align: right;\">\n",
       "      <th></th>\n",
       "      <th>bedrooms</th>\n",
       "      <th>bathrooms</th>\n",
       "      <th>toilets</th>\n",
       "      <th>parking_space</th>\n",
       "      <th>house_type</th>\n",
       "      <th>town</th>\n",
       "      <th>state</th>\n",
       "      <th>price</th>\n",
       "      <th>formatted_price</th>\n",
       "    </tr>\n",
       "  </thead>\n",
       "  <tbody>\n",
       "    <tr>\n",
       "      <th>0</th>\n",
       "      <td>6.0</td>\n",
       "      <td>5.0</td>\n",
       "      <td>5.0</td>\n",
       "      <td>4.0</td>\n",
       "      <td>Detached Duplex</td>\n",
       "      <td>Mabushi</td>\n",
       "      <td>Abuja</td>\n",
       "      <td>450000000.0</td>\n",
       "      <td>450,000,000.00</td>\n",
       "    </tr>\n",
       "    <tr>\n",
       "      <th>1</th>\n",
       "      <td>4.0</td>\n",
       "      <td>5.0</td>\n",
       "      <td>5.0</td>\n",
       "      <td>4.0</td>\n",
       "      <td>Terraced Duplexes</td>\n",
       "      <td>Katampe</td>\n",
       "      <td>Abuja</td>\n",
       "      <td>800000000.0</td>\n",
       "      <td>800,000,000.00</td>\n",
       "    </tr>\n",
       "    <tr>\n",
       "      <th>2</th>\n",
       "      <td>4.0</td>\n",
       "      <td>5.0</td>\n",
       "      <td>5.0</td>\n",
       "      <td>4.0</td>\n",
       "      <td>Detached Duplex</td>\n",
       "      <td>Lekki</td>\n",
       "      <td>Lagos</td>\n",
       "      <td>120000000.0</td>\n",
       "      <td>120,000,000.00</td>\n",
       "    </tr>\n",
       "    <tr>\n",
       "      <th>3</th>\n",
       "      <td>4.0</td>\n",
       "      <td>4.0</td>\n",
       "      <td>5.0</td>\n",
       "      <td>6.0</td>\n",
       "      <td>Detached Duplex</td>\n",
       "      <td>Ajah</td>\n",
       "      <td>Lagos</td>\n",
       "      <td>40000000.0</td>\n",
       "      <td>40,000,000.00</td>\n",
       "    </tr>\n",
       "    <tr>\n",
       "      <th>4</th>\n",
       "      <td>4.0</td>\n",
       "      <td>4.0</td>\n",
       "      <td>5.0</td>\n",
       "      <td>2.0</td>\n",
       "      <td>Semi Detached Duplex</td>\n",
       "      <td>Lekki</td>\n",
       "      <td>Lagos</td>\n",
       "      <td>75000000.0</td>\n",
       "      <td>75,000,000.00</td>\n",
       "    </tr>\n",
       "  </tbody>\n",
       "</table>\n",
       "</div>"
      ],
      "text/plain": [
       "   bedrooms  bathrooms  toilets  parking_space            house_type     town  \\\n",
       "0       6.0        5.0      5.0            4.0       Detached Duplex  Mabushi   \n",
       "1       4.0        5.0      5.0            4.0     Terraced Duplexes  Katampe   \n",
       "2       4.0        5.0      5.0            4.0       Detached Duplex    Lekki   \n",
       "3       4.0        4.0      5.0            6.0       Detached Duplex     Ajah   \n",
       "4       4.0        4.0      5.0            2.0  Semi Detached Duplex    Lekki   \n",
       "\n",
       "   state        price  formatted_price  \n",
       "0  Abuja  450000000.0   450,000,000.00  \n",
       "1  Abuja  800000000.0   800,000,000.00  \n",
       "2  Lagos  120000000.0   120,000,000.00  \n",
       "3  Lagos   40000000.0    40,000,000.00  \n",
       "4  Lagos   75000000.0    75,000,000.00  "
      ]
     },
     "execution_count": 13,
     "metadata": {},
     "output_type": "execute_result"
    }
   ],
   "source": [
    "housing.head() #to confirm the changes made"
   ]
  },
  {
   "cell_type": "code",
   "execution_count": 14,
   "id": "a18d5e01",
   "metadata": {},
   "outputs": [
    {
     "name": "stdout",
     "output_type": "stream",
     "text": [
      "<class 'pandas.core.frame.DataFrame'>\n",
      "RangeIndex: 24326 entries, 0 to 24325\n",
      "Data columns (total 9 columns):\n",
      " #   Column           Non-Null Count  Dtype  \n",
      "---  ------           --------------  -----  \n",
      " 0   bedrooms         24326 non-null  float64\n",
      " 1   bathrooms        24326 non-null  float64\n",
      " 2   toilets          24326 non-null  float64\n",
      " 3   parking_space    24326 non-null  float64\n",
      " 4   house_type       24326 non-null  object \n",
      " 5   town             24326 non-null  object \n",
      " 6   state            24326 non-null  object \n",
      " 7   price            24326 non-null  float64\n",
      " 8   formatted_price  24326 non-null  object \n",
      "dtypes: float64(5), object(4)\n",
      "memory usage: 1.7+ MB\n"
     ]
    }
   ],
   "source": [
    "housing.info() #further confirmation in term of the number of non null values and data type in the newly created column"
   ]
  },
  {
   "cell_type": "markdown",
   "id": "3f52143b",
   "metadata": {},
   "source": [
    "### *Let's visualize the count of records/properties per state, arranged in a descending order*"
   ]
  },
  {
   "cell_type": "code",
   "execution_count": 15,
   "id": "acd76bed",
   "metadata": {
    "scrolled": true
   },
   "outputs": [
    {
     "data": {
      "text/plain": [
       "<AxesSubplot:xlabel='count', ylabel='state'>"
      ]
     },
     "execution_count": 15,
     "metadata": {},
     "output_type": "execute_result"
    },
    {
     "data": {
      "image/png": "[encoded data removed]",
      "text/plain": [
       "<Figure size 1080x576 with 1 Axes>"
      ]
     },
     "metadata": {
      "needs_background": "light"
     },
     "output_type": "display_data"
    }
   ],
   "source": [
    "plt.figure(figsize=(15,8))\n",
    "sns.countplot(y='state', data=housing, order=housing['state'].value_counts(ascending=False).index)"
   ]
  },
  {
   "cell_type": "markdown",
   "id": "74d605c0",
   "metadata": {},
   "source": [
    "#### *To return the actual values from the countplot above*"
   ]
  },
  {
   "cell_type": "code",
   "execution_count": 16,
   "id": "190f1762",
   "metadata": {},
   "outputs": [
    {
     "data": {
      "text/plain": [
       "state\n",
       "Lagos          18445\n",
       "Abuja           3524\n",
       "Ogun             637\n",
       "Oyo              477\n",
       "Rivers           444\n",
       "Imo              246\n",
       "Anambara         145\n",
       "Enugu            128\n",
       "Edo              100\n",
       "Delta             63\n",
       "Akwa Ibom         25\n",
       "Kaduna            23\n",
       "Osun              12\n",
       "Ekiti              9\n",
       "Kwara              9\n",
       "Nasarawa           9\n",
       "Abia               9\n",
       "Kogi               8\n",
       "Kano               2\n",
       "Katsina            2\n",
       "Cross River        2\n",
       "Borno              2\n",
       "Bayelsa            2\n",
       "Plateau            2\n",
       "Niger              1\n",
       "dtype: int64"
      ]
     },
     "execution_count": 16,
     "metadata": {},
     "output_type": "execute_result"
    }
   ],
   "source": [
    "housing.groupby('state').size().sort_values(ascending=False) "
   ]
  },
  {
   "cell_type": "markdown",
   "id": "093e6aff",
   "metadata": {},
   "source": [
    "### *Let's visualize the count of house type, arranged in a descending order*"
   ]
  },
  {
   "cell_type": "code",
   "execution_count": 17,
   "id": "42c6730a",
   "metadata": {},
   "outputs": [
    {
     "data": {
      "text/plain": [
       "<AxesSubplot:xlabel='count', ylabel='house_type'>"
      ]
     },
     "execution_count": 17,
     "metadata": {},
     "output_type": "execute_result"
    },
    {
     "data": {
      "image/png": "[encoded data removed]",
      "text/plain": [
       "<Figure size 864x576 with 1 Axes>"
      ]
     },
     "metadata": {
      "needs_background": "light"
     },
     "output_type": "display_data"
    }
   ],
   "source": [
    "plt.figure(figsize=(12,8))\n",
    "sns.countplot(y='house_type', data=housing, order=housing['house_type'].value_counts(ascending=False).index)"
   ]
  },
  {
   "cell_type": "markdown",
   "id": "d2dce70b",
   "metadata": {},
   "source": [
    "#### *To return the actual values from the countplot above*"
   ]
  },
  {
   "cell_type": "code",
   "execution_count": 18,
   "id": "190c86f2",
   "metadata": {},
   "outputs": [
    {
     "data": {
      "text/plain": [
       "house_type\n",
       "Detached Duplex           13992\n",
       "Terraced Duplexes          3237\n",
       "Semi Detached Duplex       2615\n",
       "Detached Bungalow          2108\n",
       "Block of Flats             1745\n",
       "Semi Detached Bungalow      452\n",
       "Terraced Bungalow           177\n",
       "dtype: int64"
      ]
     },
     "execution_count": 18,
     "metadata": {},
     "output_type": "execute_result"
    }
   ],
   "source": [
    "housing.groupby('house_type').size().sort_values(ascending=False)"
   ]
  },
  {
   "cell_type": "markdown",
   "id": "4d8720df",
   "metadata": {},
   "source": [
    "### *Count the various house types found in each state, arranged in a descending order*"
   ]
  },
  {
   "cell_type": "code",
   "execution_count": 19,
   "id": "40394c49",
   "metadata": {},
   "outputs": [
    {
     "data": {
      "text/plain": [
       "state    house_type          \n",
       "Lagos    Detached Duplex         11802\n",
       "         Semi Detached Duplex     2100\n",
       "         Terraced Duplexes        2100\n",
       "Abuja    Detached Duplex          1400\n",
       "Lagos    Detached Bungalow        1052\n",
       "                                 ...  \n",
       "Katsina  Detached Duplex             1\n",
       "         Detached Bungalow           1\n",
       "Kano     Terraced Duplexes           1\n",
       "         Detached Bungalow           1\n",
       "Rivers   Terraced Bungalow           1\n",
       "Name: house_type, Length: 113, dtype: int64"
      ]
     },
     "execution_count": 19,
     "metadata": {},
     "output_type": "execute_result"
    }
   ],
   "source": [
    "housing.groupby('state')['house_type'].value_counts().sort_values(ascending=False)\n"
   ]
  },
  {
   "cell_type": "markdown",
   "id": "972ae6fa",
   "metadata": {},
   "source": [
    "### *To find the record with the most expensive property*"
   ]
  },
  {
   "cell_type": "code",
   "execution_count": 20,
   "id": "6d21f3f0",
   "metadata": {},
   "outputs": [
    {
     "data": {
      "text/plain": [
       "bedrooms                             7.0\n",
       "bathrooms                            7.0\n",
       "toilets                              8.0\n",
       "parking_space                        8.0\n",
       "house_type               Detached Duplex\n",
       "town                               Ikoyi\n",
       "state                              Lagos\n",
       "price                    1800000000000.0\n",
       "formatted_price     1,800,000,000,000.00\n",
       "Name: 4096, dtype: object"
      ]
     },
     "execution_count": 20,
     "metadata": {},
     "output_type": "execute_result"
    }
   ],
   "source": [
    "housing.loc[housing['price'].idxmax()]"
   ]
  },
  {
   "cell_type": "markdown",
   "id": "83ff4492",
   "metadata": {},
   "source": [
    "### *Arrange the alphabetically by the town, with records in each town being arranged in a descending order*"
   ]
  },
  {
   "cell_type": "code",
   "execution_count": 21,
   "id": "cd2bed6f",
   "metadata": {},
   "outputs": [
    {
     "data": {
      "text/html": [
       "<div>\n",
       "<style scoped>\n",
       "    .dataframe tbody tr th:only-of-type {\n",
       "        vertical-align: middle;\n",
       "    }\n",
       "\n",
       "    .dataframe tbody tr th {\n",
       "        vertical-align: top;\n",
       "    }\n",
       "\n",
       "    .dataframe thead th {\n",
       "        text-align: right;\n",
       "    }\n",
       "</style>\n",
       "<table border=\"1\" class=\"dataframe\">\n",
       "  <thead>\n",
       "    <tr style=\"text-align: right;\">\n",
       "      <th></th>\n",
       "      <th></th>\n",
       "      <th>bedrooms</th>\n",
       "      <th>bathrooms</th>\n",
       "      <th>toilets</th>\n",
       "      <th>parking_space</th>\n",
       "      <th>house_type</th>\n",
       "      <th>town</th>\n",
       "      <th>state</th>\n",
       "      <th>price</th>\n",
       "      <th>formatted_price</th>\n",
       "    </tr>\n",
       "    <tr>\n",
       "      <th>town</th>\n",
       "      <th></th>\n",
       "      <th></th>\n",
       "      <th></th>\n",
       "      <th></th>\n",
       "      <th></th>\n",
       "      <th></th>\n",
       "      <th></th>\n",
       "      <th></th>\n",
       "      <th></th>\n",
       "      <th></th>\n",
       "    </tr>\n",
       "  </thead>\n",
       "  <tbody>\n",
       "    <tr>\n",
       "      <th rowspan=\"5\" valign=\"top\">Aba</th>\n",
       "      <th>15745</th>\n",
       "      <td>1.0</td>\n",
       "      <td>5.0</td>\n",
       "      <td>5.0</td>\n",
       "      <td>4.0</td>\n",
       "      <td>Detached Duplex</td>\n",
       "      <td>Aba</td>\n",
       "      <td>Abia</td>\n",
       "      <td>350000000.0</td>\n",
       "      <td>350,000,000.00</td>\n",
       "    </tr>\n",
       "    <tr>\n",
       "      <th>11863</th>\n",
       "      <td>3.0</td>\n",
       "      <td>3.0</td>\n",
       "      <td>4.0</td>\n",
       "      <td>6.0</td>\n",
       "      <td>Block of Flats</td>\n",
       "      <td>Aba</td>\n",
       "      <td>Abia</td>\n",
       "      <td>120000000.0</td>\n",
       "      <td>120,000,000.00</td>\n",
       "    </tr>\n",
       "    <tr>\n",
       "      <th>21624</th>\n",
       "      <td>8.0</td>\n",
       "      <td>7.0</td>\n",
       "      <td>7.0</td>\n",
       "      <td>3.0</td>\n",
       "      <td>Detached Bungalow</td>\n",
       "      <td>Aba</td>\n",
       "      <td>Abia</td>\n",
       "      <td>100000000.0</td>\n",
       "      <td>100,000,000.00</td>\n",
       "    </tr>\n",
       "    <tr>\n",
       "      <th>18484</th>\n",
       "      <td>4.0</td>\n",
       "      <td>5.0</td>\n",
       "      <td>5.0</td>\n",
       "      <td>4.0</td>\n",
       "      <td>Block of Flats</td>\n",
       "      <td>Aba</td>\n",
       "      <td>Abia</td>\n",
       "      <td>80000000.0</td>\n",
       "      <td>80,000,000.00</td>\n",
       "    </tr>\n",
       "    <tr>\n",
       "      <th>3757</th>\n",
       "      <td>4.0</td>\n",
       "      <td>4.0</td>\n",
       "      <td>5.0</td>\n",
       "      <td>6.0</td>\n",
       "      <td>Detached Duplex</td>\n",
       "      <td>Aba</td>\n",
       "      <td>Abia</td>\n",
       "      <td>40000000.0</td>\n",
       "      <td>40,000,000.00</td>\n",
       "    </tr>\n",
       "    <tr>\n",
       "      <th>...</th>\n",
       "      <th>...</th>\n",
       "      <td>...</td>\n",
       "      <td>...</td>\n",
       "      <td>...</td>\n",
       "      <td>...</td>\n",
       "      <td>...</td>\n",
       "      <td>...</td>\n",
       "      <td>...</td>\n",
       "      <td>...</td>\n",
       "      <td>...</td>\n",
       "    </tr>\n",
       "    <tr>\n",
       "      <th rowspan=\"2\" valign=\"top\">Yaba</th>\n",
       "      <th>14387</th>\n",
       "      <td>2.0</td>\n",
       "      <td>2.0</td>\n",
       "      <td>3.0</td>\n",
       "      <td>4.0</td>\n",
       "      <td>Block of Flats</td>\n",
       "      <td>Yaba</td>\n",
       "      <td>Lagos</td>\n",
       "      <td>22000000.0</td>\n",
       "      <td>22,000,000.00</td>\n",
       "    </tr>\n",
       "    <tr>\n",
       "      <th>1644</th>\n",
       "      <td>2.0</td>\n",
       "      <td>2.0</td>\n",
       "      <td>3.0</td>\n",
       "      <td>4.0</td>\n",
       "      <td>Block of Flats</td>\n",
       "      <td>Yaba</td>\n",
       "      <td>Lagos</td>\n",
       "      <td>22000000.0</td>\n",
       "      <td>22,000,000.00</td>\n",
       "    </tr>\n",
       "    <tr>\n",
       "      <th rowspan=\"2\" valign=\"top\">Yenagoa</th>\n",
       "      <th>17282</th>\n",
       "      <td>7.0</td>\n",
       "      <td>8.0</td>\n",
       "      <td>8.0</td>\n",
       "      <td>2.0</td>\n",
       "      <td>Detached Duplex</td>\n",
       "      <td>Yenagoa</td>\n",
       "      <td>Bayelsa</td>\n",
       "      <td>160000000.0</td>\n",
       "      <td>160,000,000.00</td>\n",
       "    </tr>\n",
       "    <tr>\n",
       "      <th>10211</th>\n",
       "      <td>4.0</td>\n",
       "      <td>5.0</td>\n",
       "      <td>5.0</td>\n",
       "      <td>4.0</td>\n",
       "      <td>Block of Flats</td>\n",
       "      <td>Yenagoa</td>\n",
       "      <td>Bayelsa</td>\n",
       "      <td>20000000.0</td>\n",
       "      <td>20,000,000.00</td>\n",
       "    </tr>\n",
       "    <tr>\n",
       "      <th>Yewa South</th>\n",
       "      <th>8938</th>\n",
       "      <td>3.0</td>\n",
       "      <td>5.0</td>\n",
       "      <td>5.0</td>\n",
       "      <td>4.0</td>\n",
       "      <td>Detached Bungalow</td>\n",
       "      <td>Yewa South</td>\n",
       "      <td>Ogun</td>\n",
       "      <td>1500000.0</td>\n",
       "      <td>1,500,000.00</td>\n",
       "    </tr>\n",
       "  </tbody>\n",
       "</table>\n",
       "<p>24326 rows × 9 columns</p>\n",
       "</div>"
      ],
      "text/plain": [
       "                  bedrooms  bathrooms  toilets  parking_space  \\\n",
       "town                                                            \n",
       "Aba        15745       1.0        5.0      5.0            4.0   \n",
       "           11863       3.0        3.0      4.0            6.0   \n",
       "           21624       8.0        7.0      7.0            3.0   \n",
       "           18484       4.0        5.0      5.0            4.0   \n",
       "           3757        4.0        4.0      5.0            6.0   \n",
       "...                    ...        ...      ...            ...   \n",
       "Yaba       14387       2.0        2.0      3.0            4.0   \n",
       "           1644        2.0        2.0      3.0            4.0   \n",
       "Yenagoa    17282       7.0        8.0      8.0            2.0   \n",
       "           10211       4.0        5.0      5.0            4.0   \n",
       "Yewa South 8938        3.0        5.0      5.0            4.0   \n",
       "\n",
       "                         house_type        town    state        price  \\\n",
       "town                                                                    \n",
       "Aba        15745    Detached Duplex         Aba     Abia  350000000.0   \n",
       "           11863     Block of Flats         Aba     Abia  120000000.0   \n",
       "           21624  Detached Bungalow         Aba     Abia  100000000.0   \n",
       "           18484     Block of Flats         Aba     Abia   80000000.0   \n",
       "           3757     Detached Duplex         Aba     Abia   40000000.0   \n",
       "...                             ...         ...      ...          ...   \n",
       "Yaba       14387     Block of Flats        Yaba    Lagos   22000000.0   \n",
       "           1644      Block of Flats        Yaba    Lagos   22000000.0   \n",
       "Yenagoa    17282    Detached Duplex     Yenagoa  Bayelsa  160000000.0   \n",
       "           10211     Block of Flats     Yenagoa  Bayelsa   20000000.0   \n",
       "Yewa South 8938   Detached Bungalow  Yewa South     Ogun    1500000.0   \n",
       "\n",
       "                  formatted_price  \n",
       "town                               \n",
       "Aba        15745   350,000,000.00  \n",
       "           11863   120,000,000.00  \n",
       "           21624   100,000,000.00  \n",
       "           18484    80,000,000.00  \n",
       "           3757     40,000,000.00  \n",
       "...                           ...  \n",
       "Yaba       14387    22,000,000.00  \n",
       "           1644     22,000,000.00  \n",
       "Yenagoa    17282   160,000,000.00  \n",
       "           10211    20,000,000.00  \n",
       "Yewa South 8938      1,500,000.00  \n",
       "\n",
       "[24326 rows x 9 columns]"
      ]
     },
     "execution_count": 21,
     "metadata": {},
     "output_type": "execute_result"
    }
   ],
   "source": [
    "housing.groupby('town').apply(lambda x: x.sort_values(by='price', ascending=False))"
   ]
  },
  {
   "cell_type": "markdown",
   "id": "bb70e803",
   "metadata": {},
   "source": [
    "### *To get the neighborhood with the most expensive property and their respective state*"
   ]
  },
  {
   "cell_type": "code",
   "execution_count": 22,
   "id": "5027b1bb",
   "metadata": {},
   "outputs": [
    {
     "data": {
      "text/plain": [
       "state     town            \n",
       "Lagos     Ikoyi               2.269618e+09\n",
       "Abuja     Maitama District    7.137640e+08\n",
       "Lagos     Ifako-Ijaiye        6.918311e+08\n",
       "Abuja     Asokoro District    6.021501e+08\n",
       "          Guzape District     4.900121e+08\n",
       "Anambara  Ikoyi               4.881667e+08\n",
       "Abuja     Katampe             3.994369e+08\n",
       "          Dakibiyu            3.872143e+08\n",
       "Lagos     Apapa               3.010000e+08\n",
       "Anambara  Yaba                3.000000e+08\n",
       "Name: price, dtype: float64"
      ]
     },
     "execution_count": 22,
     "metadata": {},
     "output_type": "execute_result"
    }
   ],
   "source": [
    "# Group the DataFrame by 'town' and calculate the mean price for each town\n",
    "mean_prices = housing.groupby(['state','town'])['price'].mean()\n",
    "\n",
    "# Sort the mean prices in descending order\n",
    "sorted_mean_prices = mean_prices.sort_values(ascending=False)\n",
    "\n",
    "sorted_mean_prices.head(10)"
   ]
  },
  {
   "cell_type": "markdown",
   "id": "a7e4d1ad",
   "metadata": {},
   "source": [
    "#### *From the above output, it is obvious that the most expensive neighborhood in the data set is Ikoyi, Lagos, followed by Maitama Abuja*"
   ]
  },
  {
   "cell_type": "markdown",
   "id": "c7af8b30",
   "metadata": {},
   "source": [
    "#### *There seems to be an abnormality in the output above, with Ikoyi and Yaba appearing in Anambra, when it is obvious that Ikoyi and Yaba are a neighborhoods in Lagos, hence we will further investigate the towns in data set as a whole*"
   ]
  },
  {
   "cell_type": "markdown",
   "id": "cabd7fcc",
   "metadata": {},
   "source": [
    "### *Given the new found issue, we have to map the entire towns to their respective states, meaning that somes state(s) will be removed from the dataframe*"
   ]
  },
  {
   "cell_type": "code",
   "execution_count": 23,
   "id": "cc6c9435",
   "metadata": {},
   "outputs": [
    {
     "data": {
      "text/plain": [
       "array(['Mabushi', 'Katampe', 'Lekki', 'Ajah', 'Epe', 'Lokogoma District',\n",
       "       'Oredo', 'Victoria Island (VI)', 'Mowe Ofada', 'Ikeja', 'Ikoyi',\n",
       "       'Magodo', 'Kaura', 'Galadimawa', 'Gwarinpa', 'Abeokuta North',\n",
       "       'Lugbe District', 'Ibeju Lekki', 'Yaba', 'Sango Ota',\n",
       "       'Ifako-Ijaiye', 'Agege', 'Ikorodu', 'Jahi', 'Ibadan', 'Orozo',\n",
       "       'Ifo', 'Owerri North', 'Guzape District', 'Idu Industrial',\n",
       "       'Owerri Municipal', 'Isheri North', 'Utako', 'Port Harcourt',\n",
       "       'Kuje', 'Isheri', 'Life Camp', 'Ipaja', 'Ado-Odo/Ota', 'Dape',\n",
       "       'Mushin', 'Ejigbo', 'Isolo', 'Ojodu', 'Gaduwa', 'Enugu', 'Dakwo',\n",
       "       'Asokoro District', 'Alimosho', 'Sagamu', 'Chikun', 'Egbeda',\n",
       "       'Wuye', 'Kubwa', 'Shomolu', 'Ogudu', 'Owerri West', 'Ibafo',\n",
       "       'Surulere', 'Obio-Akpor', 'Ayobo', 'Apo', 'Mowe Town',\n",
       "       'Ibadan South-West', 'Wuse 2', 'Durumi', 'Simawa', 'Arepo',\n",
       "       'Ikotun', 'Oluyole', 'Maitama District', 'Maryland', 'Ido',\n",
       "       'Karsana', 'Wuse', 'Ilorin West', 'Kurudu', 'Karmo',\n",
       "       'Abeokuta South', 'KM 46', 'Gbagada', 'Idimu', 'Kaduna South',\n",
       "       'Magboro', 'Gudu', 'Kukwaba', 'Mbora (Nbora)', 'Obafemi Owode',\n",
       "       'Jabi', 'Karu', 'Ojo', 'Garki', 'Aba', 'Ogijo', 'Asaba', 'Uyo',\n",
       "       'Kosofe', 'Oyigbo', 'Karshi', 'Osogbo', 'Kado', 'Ilupeju',\n",
       "       'Afijio', 'Ketu', 'Ado-Ekiti', 'Ibadan North', 'Egor', 'Nyanya',\n",
       "       'Ibarapa North', 'Kyami', 'Ojota', 'Dutse', 'Nasarawa', 'Calabar',\n",
       "       'Kaduna North', 'Eleme', 'Kafe', 'Oshodi', 'Dakibiyu',\n",
       "       'Amuwo Odofin', 'Ijede', 'Bwari', 'Dekina', 'Jos South',\n",
       "       'Agbara-Igbesa', 'Ijaiye', 'Kagini', 'Ohaji/Egbema', 'Mpape',\n",
       "       'Apapa', 'Lagos Island', 'Gwagwalada', 'Ijoko', 'Diplomatic Zones',\n",
       "       'Akure', 'Ethiope West', 'Badagry', 'Kano', 'Ede South',\n",
       "       'Ilorin South', 'Oke-Aro', 'Oke-Odo', 'Ikot Ekpene', 'Kusada',\n",
       "       'Akinyele', 'Kabusa', 'Dei-Dei', 'Eket', 'Egbe', 'Udu',\n",
       "       'Ibadan North-East', 'Danja', 'Yewa South', 'Warri', 'Duboyi',\n",
       "       'Jikwoyi', 'Oyo West', 'Agbara', 'Ovia North-East', 'Yenagoa',\n",
       "       'Central Business District', 'Guzamala', 'Lokoja', 'Jos North',\n",
       "       'Orile', 'Wumba', 'Ibadan North-West', 'Eko Atlantic City',\n",
       "       'Imota', 'Ikwerre', 'Keffi', 'Ilorin East', 'Uvwie', 'Umuahia',\n",
       "       'Ijesha', 'Okene', 'Aniocha South', 'Ijebu Ode', 'Okpe',\n",
       "       'Ughelli South', 'Ewekoro', 'Nassarawa', 'Mararaba', 'Uhunmwonde',\n",
       "       'Ughelli North', 'Ibeju', 'Abraka', 'Paikoro', 'Ikpoba Okha'],\n",
       "      dtype=object)"
      ]
     },
     "execution_count": 23,
     "metadata": {},
     "output_type": "execute_result"
    }
   ],
   "source": [
    "housing['town'].unique()"
   ]
  },
  {
   "cell_type": "code",
   "execution_count": 24,
   "id": "a736136a",
   "metadata": {},
   "outputs": [],
   "source": [
    "town_to_state_mapping = {\n",
    "    'Mabushi': 'Abuja',\n",
    "    'Katampe': 'Abuja',\n",
    "    'Lekki': 'Lagos',\n",
    "    'Ajah': 'Lagos',\n",
    "    'Epe': 'Lagos',\n",
    "    'Lokogoma District': 'Abuja',\n",
    "    'Oredo': 'Edo',\n",
    "    'Victoria Island (VI)': 'Lagos',\n",
    "    'Mowe Ofada': 'Ogun',\n",
    "    'Ikeja': 'Lagos',\n",
    "    'Ikoyi': 'Lagos',\n",
    "    'Magodo': 'Lagos',\n",
    "    'Kaura': 'Abuja',\n",
    "    'Galadimawa': 'Abuja',\n",
    "    'Gwarinpa': 'Abuja',\n",
    "    'Abeokuta North': 'Ogun',\n",
    "    'Lugbe District': 'Abuja',\n",
    "    'Ibeju Lekki': 'Lagos',\n",
    "    'Yaba': 'Lagos',\n",
    "    'Sango Ota': 'Ogun',\n",
    "    'Ifako-Ijaiye': 'Lagos',\n",
    "    'Agege': 'Lagos',\n",
    "    'Ikorodu': 'Lagos',\n",
    "    'Jahi': 'Abuja',\n",
    "    'Ibadan': 'Oyo',\n",
    "    'Orozo': 'Abuja',\n",
    "    'Ifo': 'Ogun',\n",
    "    'Owerri North': 'Imo',\n",
    "    'Guzape District': 'Abuja',\n",
    "    'Idu Industrial': 'Abuja',\n",
    "    'Owerri Municipal': 'Imo',\n",
    "    'Isheri North': 'Lagos',\n",
    "    'Utako': 'Abuja',\n",
    "    'Port Harcourt': 'Rivers',\n",
    "    'Kuje': 'Abuja',\n",
    "    'Isheri': 'Lagos',\n",
    "    'Life Camp': 'Abuja',\n",
    "    'Ipaja': 'Lagos',\n",
    "    'Ado-Odo/Ota': 'Ogun',\n",
    "    'Dape': 'Abuja',\n",
    "    'Mushin': 'Lagos',\n",
    "    'Ejigbo': 'Lagos',\n",
    "    'Isolo': 'Lagos',\n",
    "    'Ojodu': 'Lagos',\n",
    "    'Gaduwa': 'Abuja',\n",
    "    'Enugu': 'Enugu',\n",
    "    'Dakwo': 'Abuja',\n",
    "    'Asokoro District': 'Abuja',\n",
    "    'Alimosho': 'Lagos',\n",
    "    'Sagamu': 'Ogun',\n",
    "    'Chikun': 'Kaduna',\n",
    "    'Egbeda': 'Lagos',\n",
    "    'Wuye': 'Abuja',\n",
    "    'Kubwa': 'Abuja',\n",
    "    'Shomolu': 'Lagos',\n",
    "    'Ogudu': 'Lagos',\n",
    "    'Owerri West': 'Imo',\n",
    "    'Ibafo': 'Ogun',\n",
    "    'Surulere': 'Lagos',\n",
    "    'Obio-Akpor': 'Rivers',\n",
    "    'Ayobo': 'Lagos',\n",
    "    'Apo': 'Abuja',\n",
    "    'Mowe Town': 'Ogun',\n",
    "    'Ibadan South-West': 'Oyo',\n",
    "    'Wuse 2': 'Abuja',\n",
    "    'Durumi': 'Abuja',\n",
    "    'Simawa': 'Ogun',\n",
    "    'Arepo': 'Ogun',\n",
    "    'Ikotun': 'Lagos',\n",
    "    'Oluyole': 'Oyo',\n",
    "    'Maitama District': 'Abuja',\n",
    "    'Maryland': 'Lagos',\n",
    "    'Ido': 'Oyo',\n",
    "    'Karsana': 'Abuja',\n",
    "    'Wuse': 'Abuja',\n",
    "    'Ilorin West': 'Kwara',\n",
    "    'Kurudu': 'Abuja',\n",
    "    'Karmo': 'Abuja',\n",
    "    'Abeokuta South': 'Ogun',\n",
    "    'KM 46': 'Lagos',\n",
    "    'Gbagada': 'Lagos',\n",
    "    'Idimu': 'Lagos',\n",
    "    'Kaduna South': 'Kaduna',\n",
    "    'Magboro': 'Ogun',\n",
    "    'Gudu': 'Abuja',\n",
    "    'Kukwaba': 'Abuja',\n",
    "    'Mbora (Nbora)': 'Abuja',\n",
    "    'Obafemi Owode': 'Ogun',\n",
    "    'Jabi': 'Abuja',\n",
    "    'Karu': 'Abuja',\n",
    "    'Ojo': 'Lagos',\n",
    "    'Garki': 'Abuja',\n",
    "    'Aba': 'Abia',\n",
    "    'Ogijo': 'Ogun',\n",
    "    'Asaba': 'Delta',\n",
    "    'Uyo': 'Akwa Ibom',\n",
    "    'Kosofe': 'Lagos',\n",
    "    'Oyigbo': 'Rivers',\n",
    "    'Karshi': 'Nasarawa',\n",
    "    'Osogbo': 'Osun',\n",
    "    'Kado': 'Abuja',\n",
    "    'Ilupeju': 'Lagos',\n",
    "    'Afijio': 'Oyo',\n",
    "    'Ketu': 'Lagos',\n",
    "    'Ado-Ekiti': 'Ekiti',\n",
    "    'Ibadan North': 'Oyo',\n",
    "    'Egor': 'Edo',\n",
    "    'Nyanya': 'Abuja',\n",
    "    'Ibarapa North': 'Oyo',\n",
    "    'Kyami': 'Abuja',\n",
    "    'Ojota': 'Lagos',\n",
    "    'Dutse': 'Abuja',\n",
    "    'Nasarawa': 'Nasarawa',\n",
    "    'Calabar': 'Cross River',\n",
    "    'Kaduna North': 'Kaduna',\n",
    "    'Eleme': 'Rivers',\n",
    "    'Kafe': 'Abuja',\n",
    "    'Oshodi': 'Lagos',\n",
    "    'Dakibiyu': 'Abuja',\n",
    "    'Amuwo Odofin': 'Lagos',\n",
    "    'Ijede': 'Lagos',\n",
    "    'Bwari': 'Abuja',\n",
    "    'Dekina': 'Kogi',\n",
    "    'Jos South': 'Plateau',\n",
    "    'Agbara-Igbesa': 'Ogun',\n",
    "    'Ijaiye': 'Lagos',\n",
    "    'Kagini': 'Abuja',\n",
    "    'Ohaji/Egbema': 'Imo',\n",
    "    'Mpape': 'Abuja',\n",
    "    'Apapa': 'Lagos',\n",
    "    'Lagos Island': 'Lagos',\n",
    "    'Gwagwalada': 'Abuja',\n",
    "    'Ijoko': 'Ogun',\n",
    "    'Diplomatic Zones': 'Abuja',\n",
    "    'Akure': 'Ondo',\n",
    "    'Ethiope West': 'Delta',\n",
    "    'Badagry': 'Lagos',\n",
    "    'Kano': 'Kano',\n",
    "    'Ede South': 'Osun',\n",
    "    'Ilorin South': 'Kwara',\n",
    "    'Oke-Aro': 'Lagos',\n",
    "    'Oke-Odo': 'Lagos',\n",
    "    'Ikot Ekpene': 'Akwa Ibom',\n",
    "    'Kusada': 'Katsina',\n",
    "    'Akinyele': 'Oyo',\n",
    "    'Kabusa': 'Abuja',\n",
    "    'Dei-Dei': 'Abuja',\n",
    "    'Eket': 'Akwa Ibom',\n",
    "    'Egbe': 'Lagos',\n",
    "    'Udu': 'Delta',\n",
    "    'Ibadan North-East': 'Oyo',\n",
    "    'Danja': 'Katsina',\n",
    "    'Yewa South': 'Ogun',\n",
    "    'Warri': 'Delta',\n",
    "    'Duboyi': 'Abuja',\n",
    "    'Jikwoyi': 'Abuja',\n",
    "    'Oyo West': 'Oyo',\n",
    "    'Agbara': 'Ogun',\n",
    "    'Ovia North-East': 'Edo',\n",
    "    'Yenagoa': 'Bayelsa',\n",
    "    'Central Business District': 'Abuja',\n",
    "    'Guzamala': 'Borno',\n",
    "    'Lokoja': 'Kogi',\n",
    "    'Jos North': 'Plateau',\n",
    "    'Orile': 'Lagos',\n",
    "    'Wumba': 'Abuja',\n",
    "    'Ibadan North-West': 'Oyo',\n",
    "    'Eko Atlantic City': 'Lagos',\n",
    "    'Imota': 'Lagos',\n",
    "    'Ikwerre': 'Rivers',\n",
    "    'Keffi': 'Nasarawa',\n",
    "    'Ilorin East': 'Kwara',\n",
    "    'Uvwie': 'Delta',\n",
    "    'Umuahia': 'Abia',\n",
    "    'Ijesha': 'Lagos',\n",
    "    'Okene': 'Kogi',\n",
    "    'Aniocha South': 'Delta',\n",
    "    'Ijebu Ode': 'Ogun',\n",
    "    'Okpe': 'Delta',\n",
    "    'Ughelli South': 'Delta',\n",
    "    'Ewekoro': 'Ogun',\n",
    "    'Nassarawa': 'Kano',\n",
    "    'Mararaba': 'Nasarawa',\n",
    "    'Uhunmwonde': 'Edo',\n",
    "    'Ughelli North': 'Delta',\n",
    "    'Ibeju': 'Lagos',\n",
    "    'Abraka': 'Delta',\n",
    "    'Paikoro': 'Niger',\n",
    "    'Ikpoba Okha': 'Edo'\n",
    "}\n",
    "\n",
    "\n",
    "housing['state'] = housing['town'].map(town_to_state_mapping)"
   ]
  },
  {
   "cell_type": "code",
   "execution_count": 25,
   "id": "ea7b2153",
   "metadata": {},
   "outputs": [
    {
     "data": {
      "text/plain": [
       "array(['Abuja', 'Lagos', 'Edo', 'Ogun', 'Oyo', 'Imo', 'Rivers', 'Enugu',\n",
       "       'Kaduna', 'Kwara', 'Abia', 'Delta', 'Akwa Ibom', 'Nasarawa',\n",
       "       'Osun', 'Ekiti', 'Cross River', 'Kogi', 'Plateau', 'Ondo', 'Kano',\n",
       "       'Katsina', 'Bayelsa', 'Borno', 'Niger'], dtype=object)"
      ]
     },
     "execution_count": 25,
     "metadata": {},
     "output_type": "execute_result"
    }
   ],
   "source": [
    "housing['state'].unique()"
   ]
  },
  {
   "cell_type": "markdown",
   "id": "5c8d6b4c",
   "metadata": {},
   "source": [
    "### *Having carried out the town to state mapping, we are confident that towns now belong to their correct state. Due to this change we have to redo some of the previously executed blocks of code*"
   ]
  },
  {
   "cell_type": "markdown",
   "id": "56d2b4b4",
   "metadata": {},
   "source": [
    "### *Let's visualize the count of records/properties per state, arranged in a descending order*"
   ]
  },
  {
   "cell_type": "code",
   "execution_count": 26,
   "id": "b8463487",
   "metadata": {},
   "outputs": [
    {
     "data": {
      "text/plain": [
       "<AxesSubplot:xlabel='count', ylabel='state'>"
      ]
     },
     "execution_count": 26,
     "metadata": {},
     "output_type": "execute_result"
    },
    {
     "data": {
      "image/png": "[encoded data removed]",
      "text/plain": [
       "<Figure size 1080x576 with 1 Axes>"
      ]
     },
     "metadata": {
      "needs_background": "light"
     },
     "output_type": "display_data"
    }
   ],
   "source": [
    "plt.figure(figsize=(15,8))\n",
    "sns.countplot(y='state', data=housing, order=housing['state'].value_counts(ascending=False).index)"
   ]
  },
  {
   "cell_type": "markdown",
   "id": "f24813a8",
   "metadata": {},
   "source": [
    "#### *To return the actual values from the countplot above*"
   ]
  },
  {
   "cell_type": "code",
   "execution_count": 27,
   "id": "c41bdeaf",
   "metadata": {
    "scrolled": true
   },
   "outputs": [
    {
     "data": {
      "text/plain": [
       "state\n",
       "Lagos          18596\n",
       "Abuja           3530\n",
       "Ogun             614\n",
       "Oyo              477\n",
       "Rivers           447\n",
       "Imo              247\n",
       "Enugu            128\n",
       "Edo              100\n",
       "Delta             63\n",
       "Akwa Ibom         25\n",
       "Kaduna            23\n",
       "Nasarawa          14\n",
       "Osun              12\n",
       "Kwara              9\n",
       "Abia               9\n",
       "Ekiti              9\n",
       "Kogi               8\n",
       "Katsina            2\n",
       "Cross River        2\n",
       "Ondo               2\n",
       "Borno              2\n",
       "Bayelsa            2\n",
       "Plateau            2\n",
       "Kano               2\n",
       "Niger              1\n",
       "dtype: int64"
      ]
     },
     "execution_count": 27,
     "metadata": {},
     "output_type": "execute_result"
    }
   ],
   "source": [
    "housing.groupby('state').size().sort_values(ascending=False)"
   ]
  },
  {
   "cell_type": "markdown",
   "id": "b19f068c",
   "metadata": {},
   "source": [
    "#### *Count the various house types found in each state, arranged in a descending order*"
   ]
  },
  {
   "cell_type": "code",
   "execution_count": 28,
   "id": "5ea057d5",
   "metadata": {},
   "outputs": [
    {
     "data": {
      "text/plain": [
       "state    house_type          \n",
       "Lagos    Detached Duplex         11833\n",
       "         Terraced Duplexes        2128\n",
       "         Semi Detached Duplex     2122\n",
       "Abuja    Detached Duplex          1402\n",
       "Lagos    Block of Flats           1070\n",
       "                                 ...  \n",
       "Kano     Detached Bungalow           1\n",
       "         Terraced Duplexes           1\n",
       "Katsina  Detached Bungalow           1\n",
       "         Detached Duplex             1\n",
       "Rivers   Terraced Bungalow           1\n",
       "Name: house_type, Length: 108, dtype: int64"
      ]
     },
     "execution_count": 28,
     "metadata": {},
     "output_type": "execute_result"
    }
   ],
   "source": [
    "housing.groupby('state')['house_type'].value_counts().sort_values(ascending=False)"
   ]
  },
  {
   "cell_type": "markdown",
   "id": "5dd527a3",
   "metadata": {},
   "source": [
    "#### *Now we check to confirn the changes we have made*"
   ]
  },
  {
   "cell_type": "code",
   "execution_count": 29,
   "id": "c7c8d903",
   "metadata": {},
   "outputs": [
    {
     "data": {
      "text/plain": [
       "state  town                \n",
       "Lagos  Ikoyi                   2.262708e+09\n",
       "Abuja  Maitama District        7.137640e+08\n",
       "Lagos  Ifako-Ijaiye            6.683900e+08\n",
       "Abuja  Asokoro District        6.021501e+08\n",
       "       Guzape District         4.885660e+08\n",
       "       Katampe                 3.982134e+08\n",
       "       Dakibiyu                3.872143e+08\n",
       "Lagos  Apapa                   3.010000e+08\n",
       "       Victoria Island (VI)    2.814776e+08\n",
       "Abuja  Wuse 2                  2.693368e+08\n",
       "Name: price, dtype: float64"
      ]
     },
     "execution_count": 29,
     "metadata": {},
     "output_type": "execute_result"
    }
   ],
   "source": [
    "# Group the DataFrame by 'town' and calculate the mean price for each town\n",
    "mean_prices = housing.groupby(['state','town'])['price'].mean()\n",
    "\n",
    "# Sort the mean prices in descending order\n",
    "sorted_mean_prices = mean_prices.sort_values(ascending=False)\n",
    "\n",
    "sorted_mean_prices.head(10)"
   ]
  },
  {
   "cell_type": "markdown",
   "id": "70bfae4f",
   "metadata": {},
   "source": [
    "### *To get the neighborhood with the least expensive property and their respective state*"
   ]
  },
  {
   "cell_type": "code",
   "execution_count": 30,
   "id": "cb49c24c",
   "metadata": {},
   "outputs": [
    {
     "data": {
      "text/plain": [
       "state    town             \n",
       "Oyo      Ibarapa North        10000000.0\n",
       "Delta    Okpe                  8000000.0\n",
       "Lagos    Imota                 6250000.0\n",
       "Katsina  Kusada                6000000.0\n",
       "Osun     Ede South             6000000.0\n",
       "Abuja    Jikwoyi               3500000.0\n",
       "Lagos    Egbeda                3000000.0\n",
       "Ogun     Yewa South            1500000.0\n",
       "Lagos    Eko Atlantic City      755000.0\n",
       "Plateau  Jos South              500000.0\n",
       "Name: price, dtype: float64"
      ]
     },
     "execution_count": 30,
     "metadata": {},
     "output_type": "execute_result"
    }
   ],
   "source": [
    "sorted_mean_prices.tail(10)"
   ]
  },
  {
   "cell_type": "markdown",
   "id": "8005ce8b",
   "metadata": {},
   "source": [
    "#### *There seems to be another error in the data set, with Eko Atlantic City ranking as one of the cheapest neighborhoods, let's take a deep dive as to why this occurred*"
   ]
  },
  {
   "cell_type": "code",
   "execution_count": 31,
   "id": "9817d6de",
   "metadata": {},
   "outputs": [
    {
     "data": {
      "text/html": [
       "<div>\n",
       "<style scoped>\n",
       "    .dataframe tbody tr th:only-of-type {\n",
       "        vertical-align: middle;\n",
       "    }\n",
       "\n",
       "    .dataframe tbody tr th {\n",
       "        vertical-align: top;\n",
       "    }\n",
       "\n",
       "    .dataframe thead th {\n",
       "        text-align: right;\n",
       "    }\n",
       "</style>\n",
       "<table border=\"1\" class=\"dataframe\">\n",
       "  <thead>\n",
       "    <tr style=\"text-align: right;\">\n",
       "      <th></th>\n",
       "      <th>bedrooms</th>\n",
       "      <th>bathrooms</th>\n",
       "      <th>toilets</th>\n",
       "      <th>parking_space</th>\n",
       "      <th>house_type</th>\n",
       "      <th>town</th>\n",
       "      <th>state</th>\n",
       "      <th>price</th>\n",
       "      <th>formatted_price</th>\n",
       "    </tr>\n",
       "  </thead>\n",
       "  <tbody>\n",
       "    <tr>\n",
       "      <th>14211</th>\n",
       "      <td>2.0</td>\n",
       "      <td>2.0</td>\n",
       "      <td>3.0</td>\n",
       "      <td>3.0</td>\n",
       "      <td>Block of Flats</td>\n",
       "      <td>Eko Atlantic City</td>\n",
       "      <td>Lagos</td>\n",
       "      <td>800000.0</td>\n",
       "      <td>800,000.00</td>\n",
       "    </tr>\n",
       "    <tr>\n",
       "      <th>14630</th>\n",
       "      <td>2.0</td>\n",
       "      <td>2.0</td>\n",
       "      <td>3.0</td>\n",
       "      <td>4.0</td>\n",
       "      <td>Block of Flats</td>\n",
       "      <td>Eko Atlantic City</td>\n",
       "      <td>Lagos</td>\n",
       "      <td>710000.0</td>\n",
       "      <td>710,000.00</td>\n",
       "    </tr>\n",
       "  </tbody>\n",
       "</table>\n",
       "</div>"
      ],
      "text/plain": [
       "       bedrooms  bathrooms  toilets  parking_space      house_type  \\\n",
       "14211       2.0        2.0      3.0            3.0  Block of Flats   \n",
       "14630       2.0        2.0      3.0            4.0  Block of Flats   \n",
       "\n",
       "                    town  state     price formatted_price  \n",
       "14211  Eko Atlantic City  Lagos  800000.0      800,000.00  \n",
       "14630  Eko Atlantic City  Lagos  710000.0      710,000.00  "
      ]
     },
     "execution_count": 31,
     "metadata": {},
     "output_type": "execute_result"
    }
   ],
   "source": [
    "housing[housing['town'] == 'Eko Atlantic City']"
   ]
  },
  {
   "cell_type": "markdown",
   "id": "3663669c",
   "metadata": {},
   "source": [
    "#### *The values for the property are in USD, hence the abnormality, we'd have to convert the price to NGN*"
   ]
  },
  {
   "cell_type": "code",
   "execution_count": 32,
   "id": "20761336",
   "metadata": {},
   "outputs": [],
   "source": [
    "row_index = [14211,14630]  # The index of the row of Eko Atlantic City\n",
    "column_name = 'price'  # price of the properties in the rows\n",
    "constant = 1200  # The current exchange rate as at 06/02/2024\n",
    "\n",
    "# Multiply the value in the specified row and price by the exchange\n",
    "housing.loc[row_index, column_name] *= constant"
   ]
  },
  {
   "cell_type": "code",
   "execution_count": 33,
   "id": "ad4634ea",
   "metadata": {},
   "outputs": [],
   "source": [
    "housing['formatted_price'] = housing['price'].apply(lambda x: ' {:,.2f}'.format(x)) #making the price more legible."
   ]
  },
  {
   "cell_type": "code",
   "execution_count": 34,
   "id": "4400387d",
   "metadata": {},
   "outputs": [
    {
     "data": {
      "text/html": [
       "<div>\n",
       "<style scoped>\n",
       "    .dataframe tbody tr th:only-of-type {\n",
       "        vertical-align: middle;\n",
       "    }\n",
       "\n",
       "    .dataframe tbody tr th {\n",
       "        vertical-align: top;\n",
       "    }\n",
       "\n",
       "    .dataframe thead th {\n",
       "        text-align: right;\n",
       "    }\n",
       "</style>\n",
       "<table border=\"1\" class=\"dataframe\">\n",
       "  <thead>\n",
       "    <tr style=\"text-align: right;\">\n",
       "      <th></th>\n",
       "      <th>bedrooms</th>\n",
       "      <th>bathrooms</th>\n",
       "      <th>toilets</th>\n",
       "      <th>parking_space</th>\n",
       "      <th>house_type</th>\n",
       "      <th>town</th>\n",
       "      <th>state</th>\n",
       "      <th>price</th>\n",
       "      <th>formatted_price</th>\n",
       "    </tr>\n",
       "  </thead>\n",
       "  <tbody>\n",
       "    <tr>\n",
       "      <th>14211</th>\n",
       "      <td>2.0</td>\n",
       "      <td>2.0</td>\n",
       "      <td>3.0</td>\n",
       "      <td>3.0</td>\n",
       "      <td>Block of Flats</td>\n",
       "      <td>Eko Atlantic City</td>\n",
       "      <td>Lagos</td>\n",
       "      <td>960000000.0</td>\n",
       "      <td>960,000,000.00</td>\n",
       "    </tr>\n",
       "    <tr>\n",
       "      <th>14630</th>\n",
       "      <td>2.0</td>\n",
       "      <td>2.0</td>\n",
       "      <td>3.0</td>\n",
       "      <td>4.0</td>\n",
       "      <td>Block of Flats</td>\n",
       "      <td>Eko Atlantic City</td>\n",
       "      <td>Lagos</td>\n",
       "      <td>852000000.0</td>\n",
       "      <td>852,000,000.00</td>\n",
       "    </tr>\n",
       "  </tbody>\n",
       "</table>\n",
       "</div>"
      ],
      "text/plain": [
       "       bedrooms  bathrooms  toilets  parking_space      house_type  \\\n",
       "14211       2.0        2.0      3.0            3.0  Block of Flats   \n",
       "14630       2.0        2.0      3.0            4.0  Block of Flats   \n",
       "\n",
       "                    town  state        price  formatted_price  \n",
       "14211  Eko Atlantic City  Lagos  960000000.0   960,000,000.00  \n",
       "14630  Eko Atlantic City  Lagos  852000000.0   852,000,000.00  "
      ]
     },
     "execution_count": 34,
     "metadata": {},
     "output_type": "execute_result"
    }
   ],
   "source": [
    "housing[housing['town'] == 'Eko Atlantic City'] #checking to confirm the change that was made."
   ]
  },
  {
   "cell_type": "code",
   "execution_count": 36,
   "id": "ff3ccfe0",
   "metadata": {},
   "outputs": [
    {
     "data": {
      "text/plain": [
       "state    town         \n",
       "Ogun     Mowe Ofada       1.183832e+07\n",
       "Oyo      Ibarapa North    1.000000e+07\n",
       "Delta    Okpe             8.000000e+06\n",
       "Lagos    Imota            6.250000e+06\n",
       "Osun     Ede South        6.000000e+06\n",
       "Katsina  Kusada           6.000000e+06\n",
       "Abuja    Jikwoyi          3.500000e+06\n",
       "Lagos    Egbeda           3.000000e+06\n",
       "Ogun     Yewa South       1.500000e+06\n",
       "Plateau  Jos South        5.000000e+05\n",
       "Name: price, dtype: float64"
      ]
     },
     "execution_count": 36,
     "metadata": {},
     "output_type": "execute_result"
    }
   ],
   "source": [
    "# Group the DataFrame by 'town' and calculate the mean price for each town\n",
    "mean_prices = housing.groupby(['state','town'])['price'].mean()\n",
    "\n",
    "# Sort the mean prices in descending order\n",
    "sorted_mean_prices = mean_prices.sort_values(ascending=False)\n",
    "\n",
    "sorted_mean_prices.tail(10)"
   ]
  },
  {
   "cell_type": "markdown",
   "id": "9af0ddd8",
   "metadata": {},
   "source": [
    "#### *From the result above, we can say that Jos South, Plateau State, has the cheapest property in this dataset, followed by Yewa South and Egbeda in Ogun and Lagos States respectively*"
   ]
  },
  {
   "cell_type": "code",
   "execution_count": null,
   "id": "7108f898",
   "metadata": {},
   "outputs": [],
   "source": []
  }
 ],
 "metadata": {
  "kernelspec": {
   "display_name": "Python 3 (ipykernel)",
   "language": "python",
   "name": "python3"
  },
  "language_info": {
   "codemirror_mode": {
    "name": "ipython",
    "version": 3
   },
   "file_extension": ".py",
   "mimetype": "text/x-python",
   "name": "python",
   "nbconvert_exporter": "python",
   "pygments_lexer": "ipython3",
   "version": "3.9.7"
  }
 },
 "nbformat": 4,
 "nbformat_minor": 5
}
