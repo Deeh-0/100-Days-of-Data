{
 "cells": [
  {
   "cell_type": "code",
   "execution_count": 1,
   "id": "9fff85d8",
   "metadata": {},
   "outputs": [],
   "source": [
    "#Library Import\n",
    "import numpy as np \n",
    "import pandas as pd\n",
    "import matplotlib.pyplot as plt\n",
    "import seaborn as sns"
   ]
  },
  {
   "cell_type": "code",
   "execution_count": 2,
   "id": "e03d3691",
   "metadata": {},
   "outputs": [],
   "source": [
    "#Data set Import\n",
    "df = pd.read_csv(\"Student Mental health.csv\")"
   ]
  },
  {
   "cell_type": "code",
   "execution_count": 3,
   "id": "d9b1ee85",
   "metadata": {},
   "outputs": [
    {
     "data": {
      "text/html": [
       "<div>\n",
       "<style scoped>\n",
       "    .dataframe tbody tr th:only-of-type {\n",
       "        vertical-align: middle;\n",
       "    }\n",
       "\n",
       "    .dataframe tbody tr th {\n",
       "        vertical-align: top;\n",
       "    }\n",
       "\n",
       "    .dataframe thead th {\n",
       "        text-align: right;\n",
       "    }\n",
       "</style>\n",
       "<table border=\"1\" class=\"dataframe\">\n",
       "  <thead>\n",
       "    <tr style=\"text-align: right;\">\n",
       "      <th></th>\n",
       "      <th>Timestamp</th>\n",
       "      <th>Choose your gender</th>\n",
       "      <th>Age</th>\n",
       "      <th>What is your course?</th>\n",
       "      <th>Your current year of Study</th>\n",
       "      <th>What is your CGPA?</th>\n",
       "      <th>Marital status</th>\n",
       "      <th>Do you have Depression?</th>\n",
       "      <th>Do you have Anxiety?</th>\n",
       "      <th>Do you have Panic attack?</th>\n",
       "      <th>Did you seek any specialist for a treatment?</th>\n",
       "    </tr>\n",
       "  </thead>\n",
       "  <tbody>\n",
       "    <tr>\n",
       "      <th>0</th>\n",
       "      <td>8/7/2020 12:02</td>\n",
       "      <td>Female</td>\n",
       "      <td>18.0</td>\n",
       "      <td>Engineering</td>\n",
       "      <td>year 1</td>\n",
       "      <td>3.00 - 3.49</td>\n",
       "      <td>No</td>\n",
       "      <td>Yes</td>\n",
       "      <td>No</td>\n",
       "      <td>Yes</td>\n",
       "      <td>No</td>\n",
       "    </tr>\n",
       "    <tr>\n",
       "      <th>1</th>\n",
       "      <td>8/7/2020 12:04</td>\n",
       "      <td>Male</td>\n",
       "      <td>21.0</td>\n",
       "      <td>Islamic education</td>\n",
       "      <td>year 2</td>\n",
       "      <td>3.00 - 3.49</td>\n",
       "      <td>No</td>\n",
       "      <td>No</td>\n",
       "      <td>Yes</td>\n",
       "      <td>No</td>\n",
       "      <td>No</td>\n",
       "    </tr>\n",
       "    <tr>\n",
       "      <th>2</th>\n",
       "      <td>8/7/2020 12:05</td>\n",
       "      <td>Male</td>\n",
       "      <td>19.0</td>\n",
       "      <td>BIT</td>\n",
       "      <td>Year 1</td>\n",
       "      <td>3.00 - 3.49</td>\n",
       "      <td>No</td>\n",
       "      <td>Yes</td>\n",
       "      <td>Yes</td>\n",
       "      <td>Yes</td>\n",
       "      <td>No</td>\n",
       "    </tr>\n",
       "    <tr>\n",
       "      <th>3</th>\n",
       "      <td>8/7/2020 12:06</td>\n",
       "      <td>Female</td>\n",
       "      <td>22.0</td>\n",
       "      <td>Laws</td>\n",
       "      <td>year 3</td>\n",
       "      <td>3.00 - 3.49</td>\n",
       "      <td>Yes</td>\n",
       "      <td>Yes</td>\n",
       "      <td>No</td>\n",
       "      <td>No</td>\n",
       "      <td>No</td>\n",
       "    </tr>\n",
       "    <tr>\n",
       "      <th>4</th>\n",
       "      <td>8/7/2020 12:13</td>\n",
       "      <td>Male</td>\n",
       "      <td>23.0</td>\n",
       "      <td>Mathemathics</td>\n",
       "      <td>year 4</td>\n",
       "      <td>3.00 - 3.49</td>\n",
       "      <td>No</td>\n",
       "      <td>No</td>\n",
       "      <td>No</td>\n",
       "      <td>No</td>\n",
       "      <td>No</td>\n",
       "    </tr>\n",
       "  </tbody>\n",
       "</table>\n",
       "</div>"
      ],
      "text/plain": [
       "        Timestamp Choose your gender   Age What is your course?  \\\n",
       "0  8/7/2020 12:02             Female  18.0          Engineering   \n",
       "1  8/7/2020 12:04               Male  21.0    Islamic education   \n",
       "2  8/7/2020 12:05               Male  19.0                  BIT   \n",
       "3  8/7/2020 12:06             Female  22.0                 Laws   \n",
       "4  8/7/2020 12:13               Male  23.0         Mathemathics   \n",
       "\n",
       "  Your current year of Study What is your CGPA? Marital status  \\\n",
       "0                     year 1        3.00 - 3.49             No   \n",
       "1                     year 2        3.00 - 3.49             No   \n",
       "2                     Year 1        3.00 - 3.49             No   \n",
       "3                     year 3        3.00 - 3.49            Yes   \n",
       "4                     year 4        3.00 - 3.49             No   \n",
       "\n",
       "  Do you have Depression? Do you have Anxiety? Do you have Panic attack?  \\\n",
       "0                     Yes                   No                       Yes   \n",
       "1                      No                  Yes                        No   \n",
       "2                     Yes                  Yes                       Yes   \n",
       "3                     Yes                   No                        No   \n",
       "4                      No                   No                        No   \n",
       "\n",
       "  Did you seek any specialist for a treatment?  \n",
       "0                                           No  \n",
       "1                                           No  \n",
       "2                                           No  \n",
       "3                                           No  \n",
       "4                                           No  "
      ]
     },
     "execution_count": 3,
     "metadata": {},
     "output_type": "execute_result"
    }
   ],
   "source": [
    "df.head()"
   ]
  },
  {
   "cell_type": "code",
   "execution_count": 4,
   "id": "12fb9787",
   "metadata": {},
   "outputs": [
    {
     "data": {
      "text/plain": [
       "(101, 11)"
      ]
     },
     "execution_count": 4,
     "metadata": {},
     "output_type": "execute_result"
    }
   ],
   "source": [
    "df.shape"
   ]
  },
  {
   "cell_type": "code",
   "execution_count": 5,
   "id": "bc691658",
   "metadata": {},
   "outputs": [
    {
     "name": "stdout",
     "output_type": "stream",
     "text": [
      "<class 'pandas.core.frame.DataFrame'>\n",
      "RangeIndex: 101 entries, 0 to 100\n",
      "Data columns (total 11 columns):\n",
      " #   Column                                        Non-Null Count  Dtype  \n",
      "---  ------                                        --------------  -----  \n",
      " 0   Timestamp                                     101 non-null    object \n",
      " 1   Choose your gender                            101 non-null    object \n",
      " 2   Age                                           100 non-null    float64\n",
      " 3   What is your course?                          101 non-null    object \n",
      " 4   Your current year of Study                    101 non-null    object \n",
      " 5   What is your CGPA?                            101 non-null    object \n",
      " 6   Marital status                                101 non-null    object \n",
      " 7   Do you have Depression?                       101 non-null    object \n",
      " 8   Do you have Anxiety?                          101 non-null    object \n",
      " 9   Do you have Panic attack?                     101 non-null    object \n",
      " 10  Did you seek any specialist for a treatment?  101 non-null    object \n",
      "dtypes: float64(1), object(10)\n",
      "memory usage: 8.8+ KB\n"
     ]
    }
   ],
   "source": [
    "df.info()"
   ]
  },
  {
   "cell_type": "code",
   "execution_count": 6,
   "id": "5e424003",
   "metadata": {},
   "outputs": [],
   "source": [
    "df['Timestamp'] = pd.to_datetime(df['Timestamp'])"
   ]
  },
  {
   "cell_type": "code",
   "execution_count": 7,
   "id": "56ca5da7",
   "metadata": {},
   "outputs": [
    {
     "data": {
      "text/plain": [
       "Timestamp                                       datetime64[ns]\n",
       "Choose your gender                                      object\n",
       "Age                                                    float64\n",
       "What is your course?                                    object\n",
       "Your current year of Study                              object\n",
       "What is your CGPA?                                      object\n",
       "Marital status                                          object\n",
       "Do you have Depression?                                 object\n",
       "Do you have Anxiety?                                    object\n",
       "Do you have Panic attack?                               object\n",
       "Did you seek any specialist for a treatment?            object\n",
       "dtype: object"
      ]
     },
     "execution_count": 7,
     "metadata": {},
     "output_type": "execute_result"
    }
   ],
   "source": [
    "df.dtypes"
   ]
  },
  {
   "cell_type": "code",
   "execution_count": 8,
   "id": "cbe2e3da",
   "metadata": {},
   "outputs": [
    {
     "data": {
      "text/plain": [
       "Timestamp                                       92\n",
       "Choose your gender                               2\n",
       "Age                                              7\n",
       "What is your course?                            49\n",
       "Your current year of Study                       7\n",
       "What is your CGPA?                               6\n",
       "Marital status                                   2\n",
       "Do you have Depression?                          2\n",
       "Do you have Anxiety?                             2\n",
       "Do you have Panic attack?                        2\n",
       "Did you seek any specialist for a treatment?     2\n",
       "dtype: int64"
      ]
     },
     "execution_count": 8,
     "metadata": {},
     "output_type": "execute_result"
    }
   ],
   "source": [
    "df.nunique()"
   ]
  },
  {
   "cell_type": "code",
   "execution_count": 9,
   "id": "85ea5608",
   "metadata": {},
   "outputs": [],
   "source": [
    "#Let us refine the names of some of the columns\n",
    "df.rename(columns = {\"Choose your gender\":\"Gender\", \"What is your course?\":\"Course\", \"Your current year of Study\":\"Year of Study\", \"What is your CGPA?\":\"CGPA\", \"Do you have Depression?\":\"Depressed\", \"Do you have Anxiety?\":\"Anxious\", \"Do you have Panic attack?\":\"Panic\", \"Did you seek any specialist for a treatment?\":\"Seeking Treatment\"}, inplace=True)"
   ]
  },
  {
   "cell_type": "code",
   "execution_count": 10,
   "id": "3fa53afe",
   "metadata": {},
   "outputs": [
    {
     "data": {
      "text/plain": [
       "Index(['Timestamp', 'Gender', 'Age', 'Course', 'Year of Study', 'CGPA',\n",
       "       'Marital status', 'Depressed', 'Anxious', 'Panic', 'Seeking Treatment'],\n",
       "      dtype='object')"
      ]
     },
     "execution_count": 10,
     "metadata": {},
     "output_type": "execute_result"
    }
   ],
   "source": [
    "df.columns #checking to confirm changes made"
   ]
  },
  {
   "cell_type": "code",
   "execution_count": 11,
   "id": "e3df055e",
   "metadata": {},
   "outputs": [
    {
     "data": {
      "text/plain": [
       "array(['year 1', 'year 2', 'Year 1', 'year 3', 'year 4', 'Year 2',\n",
       "       'Year 3'], dtype=object)"
      ]
     },
     "execution_count": 11,
     "metadata": {},
     "output_type": "execute_result"
    }
   ],
   "source": [
    "#Let's check the different unique values in the year of study\n",
    "df[\"Year of Study\"].unique()"
   ]
  },
  {
   "cell_type": "code",
   "execution_count": 12,
   "id": "6c742526",
   "metadata": {},
   "outputs": [
    {
     "data": {
      "text/plain": [
       "array(['year 1', 'year 2', 'year 3', 'year 4'], dtype=object)"
      ]
     },
     "execution_count": 12,
     "metadata": {},
     "output_type": "execute_result"
    }
   ],
   "source": [
    "# Convert 'Year of Study' column to lowercase to ensure case-insensitive grouping\n",
    "df['Year of Study'] = df['Year of Study'].str.lower()\n",
    "\n",
    "# Group by the 'Year of Study' column and take the first value of each group\n",
    "collapsed_df = df.groupby('Year of Study').first().reset_index()\n",
    "\n",
    "df['Year of Study'].unique() #checking to confirm changes"
   ]
  },
  {
   "cell_type": "code",
   "execution_count": 13,
   "id": "baecf600",
   "metadata": {},
   "outputs": [
    {
     "data": {
      "text/html": [
       "<div>\n",
       "<style scoped>\n",
       "    .dataframe tbody tr th:only-of-type {\n",
       "        vertical-align: middle;\n",
       "    }\n",
       "\n",
       "    .dataframe tbody tr th {\n",
       "        vertical-align: top;\n",
       "    }\n",
       "\n",
       "    .dataframe thead th {\n",
       "        text-align: right;\n",
       "    }\n",
       "</style>\n",
       "<table border=\"1\" class=\"dataframe\">\n",
       "  <thead>\n",
       "    <tr style=\"text-align: right;\">\n",
       "      <th></th>\n",
       "      <th>Timestamp</th>\n",
       "      <th>Gender</th>\n",
       "      <th>Age</th>\n",
       "      <th>Course</th>\n",
       "      <th>Year of Study</th>\n",
       "      <th>CGPA</th>\n",
       "      <th>Marital status</th>\n",
       "      <th>Depressed</th>\n",
       "      <th>Anxious</th>\n",
       "      <th>Panic</th>\n",
       "      <th>Seeking Treatment</th>\n",
       "    </tr>\n",
       "  </thead>\n",
       "  <tbody>\n",
       "  </tbody>\n",
       "</table>\n",
       "</div>"
      ],
      "text/plain": [
       "Empty DataFrame\n",
       "Columns: [Timestamp, Gender, Age, Course, Year of Study, CGPA, Marital status, Depressed, Anxious, Panic, Seeking Treatment]\n",
       "Index: []"
      ]
     },
     "execution_count": 13,
     "metadata": {},
     "output_type": "execute_result"
    }
   ],
   "source": [
    "df[df.duplicated()]"
   ]
  },
  {
   "cell_type": "markdown",
   "id": "41039f4a",
   "metadata": {},
   "source": [
    "#### *There doesn't seem to be any dulplicate values in the data set*"
   ]
  },
  {
   "cell_type": "code",
   "execution_count": 14,
   "id": "9e2380b7",
   "metadata": {},
   "outputs": [
    {
     "data": {
      "text/plain": [
       "Timestamp            0\n",
       "Gender               0\n",
       "Age                  1\n",
       "Course               0\n",
       "Year of Study        0\n",
       "CGPA                 0\n",
       "Marital status       0\n",
       "Depressed            0\n",
       "Anxious              0\n",
       "Panic                0\n",
       "Seeking Treatment    0\n",
       "dtype: int64"
      ]
     },
     "execution_count": 14,
     "metadata": {},
     "output_type": "execute_result"
    }
   ],
   "source": [
    "df.isnull().sum() #check for missing values"
   ]
  },
  {
   "cell_type": "code",
   "execution_count": 15,
   "id": "9d550f1f",
   "metadata": {},
   "outputs": [],
   "source": [
    "df.dropna(axis=0, inplace=True, how=\"any\") #dropping all missing values"
   ]
  },
  {
   "cell_type": "code",
   "execution_count": 16,
   "id": "7fb01e82",
   "metadata": {},
   "outputs": [
    {
     "data": {
      "text/plain": [
       "Timestamp            0\n",
       "Gender               0\n",
       "Age                  0\n",
       "Course               0\n",
       "Year of Study        0\n",
       "CGPA                 0\n",
       "Marital status       0\n",
       "Depressed            0\n",
       "Anxious              0\n",
       "Panic                0\n",
       "Seeking Treatment    0\n",
       "dtype: int64"
      ]
     },
     "execution_count": 16,
     "metadata": {},
     "output_type": "execute_result"
    }
   ],
   "source": [
    "df.isnull().sum() #checking to confirm deletion of missing values"
   ]
  },
  {
   "cell_type": "code",
   "execution_count": 17,
   "id": "88de7056",
   "metadata": {},
   "outputs": [
    {
     "data": {
      "text/plain": [
       "<Axes: title={'center': 'Count of the Various ages of students'}, xlabel='Age', ylabel='count'>"
      ]
     },
     "execution_count": 17,
     "metadata": {},
     "output_type": "execute_result"
    },
    {
     "data": {
      "image/png": "[encoded data removed]",
      "text/plain": [
       "<Figure size 720x504 with 1 Axes>"
      ]
     },
     "metadata": {
      "needs_background": "light"
     },
     "output_type": "display_data"
    }
   ],
   "source": [
    "plt.figure(figsize=(10,7))\n",
    "plt.title(\"Count of the Various ages of students\")\n",
    "sns.countplot(x='Age', data=df)"
   ]
  },
  {
   "cell_type": "code",
   "execution_count": 18,
   "id": "762f7ee6",
   "metadata": {},
   "outputs": [
    {
     "data": {
      "text/plain": [
       "<matplotlib.legend.Legend at 0x2476d2c2370>"
      ]
     },
     "execution_count": 18,
     "metadata": {},
     "output_type": "execute_result"
    },
    {
     "data": {
      "image/png": "[encoded data removed]",
      "text/plain": [
       "<Figure size 720x504 with 1 Axes>"
      ]
     },
     "metadata": {},
     "output_type": "display_data"
    }
   ],
   "source": [
    "plt.figure(figsize=(10,7))\n",
    "plt.title(\"Gender Distribution\")\n",
    "plt.pie(df[\"Gender\"].value_counts(), explode=(0.025,0.025), labels=df[\"Gender\"].value_counts().index,autopct='%1.1f%%', startangle=180)\n",
    "plt.legend()"
   ]
  },
  {
   "cell_type": "code",
   "execution_count": 19,
   "id": "8796b3df",
   "metadata": {},
   "outputs": [
    {
     "data": {
      "text/plain": [
       "<Axes: title={'center': 'Year of study distribution'}, xlabel='Year of Study', ylabel='count'>"
      ]
     },
     "execution_count": 19,
     "metadata": {},
     "output_type": "execute_result"
    },
    {
     "data": {
      "image/png": "[encoded data removed]",
      "text/plain": [
       "<Figure size 720x504 with 1 Axes>"
      ]
     },
     "metadata": {
      "needs_background": "light"
     },
     "output_type": "display_data"
    }
   ],
   "source": [
    "plt.figure(figsize=(10,7))\n",
    "plt.title(\"Year of study distribution\")\n",
    "sns.countplot(x=\"Year of Study\", data=df)"
   ]
  },
  {
   "cell_type": "code",
   "execution_count": 20,
   "id": "2b359bf1",
   "metadata": {},
   "outputs": [
    {
     "data": {
      "text/plain": [
       "<Axes: title={'center': 'Student per year, distinguished by gender'}, xlabel='Year of Study', ylabel='count'>"
      ]
     },
     "execution_count": 20,
     "metadata": {},
     "output_type": "execute_result"
    },
    {
     "data": {
      "image/png": "[encoded data removed]",
      "text/plain": [
       "<Figure size 720x504 with 1 Axes>"
      ]
     },
     "metadata": {
      "needs_background": "light"
     },
     "output_type": "display_data"
    }
   ],
   "source": [
    "plt.figure(figsize=(10,7))\n",
    "plt.title(\"Student per year, distinguished by gender\")\n",
    "sns.countplot(x=\"Year of Study\", data=df, hue=\"Gender\")"
   ]
  },
  {
   "cell_type": "code",
   "execution_count": 21,
   "id": "626621c9",
   "metadata": {
    "scrolled": false
   },
   "outputs": [
    {
     "data": {
      "text/plain": [
       "<Axes: title={'center': 'Students in different years of study filtered by anxiety'}, xlabel='Year of Study', ylabel='count'>"
      ]
     },
     "execution_count": 21,
     "metadata": {},
     "output_type": "execute_result"
    },
    {
     "data": {
      "image/png": "[encoded data removed]",
      "text/plain": [
       "<Figure size 720x504 with 1 Axes>"
      ]
     },
     "metadata": {
      "needs_background": "light"
     },
     "output_type": "display_data"
    }
   ],
   "source": [
    "plt.figure(figsize=(10,7))\n",
    "plt.title(\"Students in different years of study filtered by anxiety\")\n",
    "sns.countplot(x=\"Year of Study\", data=df, hue=\"Anxious\")"
   ]
  },
  {
   "cell_type": "code",
   "execution_count": 22,
   "id": "ce529a15",
   "metadata": {},
   "outputs": [
    {
     "data": {
      "text/plain": [
       "Year of Study  Anxious\n",
       "year 1         No         28\n",
       "               Yes        14\n",
       "year 2         No         16\n",
       "               Yes        10\n",
       "year 3         No         16\n",
       "               Yes         8\n",
       "year 4         No          6\n",
       "               Yes         2\n",
       "dtype: int64"
      ]
     },
     "execution_count": 22,
     "metadata": {},
     "output_type": "execute_result"
    }
   ],
   "source": [
    "df.groupby([\"Year of Study\",\"Anxious\"]).size()"
   ]
  },
  {
   "cell_type": "code",
   "execution_count": 23,
   "id": "763cd3d3",
   "metadata": {},
   "outputs": [
    {
     "data": {
      "text/plain": [
       "Text(0.5, 1.0, 'Occurrences of students who are depressed by Year of Study')"
      ]
     },
     "execution_count": 23,
     "metadata": {},
     "output_type": "execute_result"
    },
    {
     "data": {
      "image/png": "[encoded data removed]",
      "text/plain": [
       "<Figure size 432x288 with 1 Axes>"
      ]
     },
     "metadata": {
      "needs_background": "light"
     },
     "output_type": "display_data"
    }
   ],
   "source": [
    "grouped = df.groupby([\"Year of Study\",\"Anxious\"]).size()\n",
    "\n",
    "anxious_yes = grouped.loc[:, \"Yes\"]\n",
    "\n",
    "anxious_yes = anxious_yes.plot(kind=\"line\", marker=\"o\")\n",
    "\n",
    "plt.xlabel(\"Year of Study\")\n",
    "plt.ylabel(\"Count\")\n",
    "plt.title(\"Occurrences of students who are depressed by Year of Study\")"
   ]
  },
  {
   "cell_type": "code",
   "execution_count": 24,
   "id": "e2dc56bf",
   "metadata": {
    "scrolled": false
   },
   "outputs": [
    {
     "data": {
      "text/plain": [
       "<Axes: title={'center': 'Students in different years of study filtered by depression'}, xlabel='Year of Study', ylabel='count'>"
      ]
     },
     "execution_count": 24,
     "metadata": {},
     "output_type": "execute_result"
    },
    {
     "data": {
      "image/png": "[encoded data removed]",
      "text/plain": [
       "<Figure size 720x504 with 1 Axes>"
      ]
     },
     "metadata": {
      "needs_background": "light"
     },
     "output_type": "display_data"
    }
   ],
   "source": [
    "plt.figure(figsize=(10,7))\n",
    "plt.title(\"Students in different years of study filtered by depression\")\n",
    "sns.countplot(x=\"Year of Study\", data=df, hue=\"Depressed\")"
   ]
  },
  {
   "cell_type": "code",
   "execution_count": 25,
   "id": "79bfe80f",
   "metadata": {},
   "outputs": [
    {
     "data": {
      "text/plain": [
       "Year of Study  Depressed\n",
       "year 1         No           28\n",
       "               Yes          14\n",
       "year 2         No           16\n",
       "               Yes          10\n",
       "year 3         No           14\n",
       "               Yes          10\n",
       "year 4         No            7\n",
       "               Yes           1\n",
       "dtype: int64"
      ]
     },
     "execution_count": 25,
     "metadata": {},
     "output_type": "execute_result"
    }
   ],
   "source": [
    "df.groupby([\"Year of Study\",\"Depressed\"]).size()"
   ]
  },
  {
   "cell_type": "code",
   "execution_count": 26,
   "id": "672e1d7a",
   "metadata": {},
   "outputs": [
    {
     "data": {
      "text/plain": [
       "Text(0.5, 1.0, 'Occurrences of students who are depressed by Year of Study')"
      ]
     },
     "execution_count": 26,
     "metadata": {},
     "output_type": "execute_result"
    },
    {
     "data": {
      "image/png": "[encoded data removed]",
      "text/plain": [
       "<Figure size 432x288 with 1 Axes>"
      ]
     },
     "metadata": {
      "needs_background": "light"
     },
     "output_type": "display_data"
    }
   ],
   "source": [
    "# Group by \"Year of Study\" and \"Panic\", then count occurrences\n",
    "grouped = df.groupby([\"Year of Study\", \"Depressed\"]).size()\n",
    "\n",
    "# Filter by \"Panic\" equals \"Yes\"\n",
    "depressed_yes = grouped.loc[:, 'Yes']\n",
    "\n",
    "# Plotting the line chart\n",
    "depressed_yes.plot(kind='line', marker='o')\n",
    "\n",
    "# Adding labels and title\n",
    "plt.xlabel('Year of Study')\n",
    "plt.ylabel('Count')\n",
    "plt.title('Occurrences of students who are depressed by Year of Study')"
   ]
  },
  {
   "cell_type": "code",
   "execution_count": 27,
   "id": "a669d363",
   "metadata": {
    "scrolled": false
   },
   "outputs": [
    {
     "data": {
      "text/plain": [
       "<Axes: title={'center': 'Students in different years of study filtered by whether they have had panic attacks'}, xlabel='Year of Study', ylabel='count'>"
      ]
     },
     "execution_count": 27,
     "metadata": {},
     "output_type": "execute_result"
    },
    {
     "data": {
      "image/png": "[encoded data removed]",
      "text/plain": [
       "<Figure size 720x504 with 1 Axes>"
      ]
     },
     "metadata": {
      "needs_background": "light"
     },
     "output_type": "display_data"
    }
   ],
   "source": [
    "plt.figure(figsize=(10,7))\n",
    "plt.title(\"Students in different years of study filtered by whether they have had panic attacks\")\n",
    "sns.countplot(x=\"Year of Study\", data=df, hue=\"Panic\")"
   ]
  },
  {
   "cell_type": "code",
   "execution_count": 28,
   "id": "5e3d21aa",
   "metadata": {
    "scrolled": true
   },
   "outputs": [
    {
     "data": {
      "text/plain": [
       "Year of Study  Panic\n",
       "year 1         No       28\n",
       "               Yes      14\n",
       "year 2         No       18\n",
       "               Yes       8\n",
       "year 3         No       14\n",
       "               Yes      10\n",
       "year 4         No        7\n",
       "               Yes       1\n",
       "dtype: int64"
      ]
     },
     "execution_count": 28,
     "metadata": {},
     "output_type": "execute_result"
    }
   ],
   "source": [
    "df.groupby([\"Year of Study\",\"Panic\"]).size()"
   ]
  },
  {
   "cell_type": "code",
   "execution_count": 29,
   "id": "04f8a137",
   "metadata": {},
   "outputs": [
    {
     "data": {
      "text/plain": [
       "Text(0.5, 1.0, 'Occurrences of students who have panic attack by Year of Study')"
      ]
     },
     "execution_count": 29,
     "metadata": {},
     "output_type": "execute_result"
    },
    {
     "data": {
      "image/png": "[encoded data removed]",
      "text/plain": [
       "<Figure size 432x288 with 1 Axes>"
      ]
     },
     "metadata": {
      "needs_background": "light"
     },
     "output_type": "display_data"
    }
   ],
   "source": [
    "# Group by \"Year of Study\" and \"Panic\", then count occurrences\n",
    "grouped = df.groupby([\"Year of Study\", \"Panic\"]).size()\n",
    "\n",
    "# Filter by \"Panic\" equals \"Yes\"\n",
    "panic_yes = grouped.loc[:, 'Yes']\n",
    "\n",
    "# Plotting the line chart\n",
    "panic_yes.plot(kind='line', marker='o')\n",
    "\n",
    "# Adding labels and title\n",
    "plt.xlabel('Year of Study')\n",
    "plt.ylabel('Count')\n",
    "plt.title('Occurrences of students who have panic attack by Year of Study')"
   ]
  },
  {
   "cell_type": "code",
   "execution_count": 30,
   "id": "49607f0a",
   "metadata": {
    "scrolled": false
   },
   "outputs": [
    {
     "data": {
      "text/plain": [
       "<Axes: title={'center': 'Count of depressed student that seek treatment'}, xlabel='Depressed', ylabel='count'>"
      ]
     },
     "execution_count": 30,
     "metadata": {},
     "output_type": "execute_result"
    },
    {
     "data": {
      "image/png": "[encoded data removed]",
      "text/plain": [
       "<Figure size 720x504 with 1 Axes>"
      ]
     },
     "metadata": {
      "needs_background": "light"
     },
     "output_type": "display_data"
    }
   ],
   "source": [
    "plt.figure(figsize=(10,7))\n",
    "plt.title(\"Count of depressed student that seek treatment\")\n",
    "sns.countplot(x=\"Depressed\", data=df, hue='Seeking Treatment')"
   ]
  },
  {
   "cell_type": "code",
   "execution_count": 31,
   "id": "58fbefb8",
   "metadata": {},
   "outputs": [
    {
     "data": {
      "text/plain": [
       "Depressed  Seeking Treatment\n",
       "No         No                   65\n",
       "Yes        No                   29\n",
       "           Yes                   6\n",
       "dtype: int64"
      ]
     },
     "execution_count": 31,
     "metadata": {},
     "output_type": "execute_result"
    }
   ],
   "source": [
    "df.groupby([\"Depressed\",\"Seeking Treatment\"]).size() #numeric representation of the chart above, showing the number of depressed student and those who are seeking treatment"
   ]
  },
  {
   "cell_type": "code",
   "execution_count": 32,
   "id": "dd388f02",
   "metadata": {},
   "outputs": [
    {
     "data": {
      "text/plain": [
       "<Axes: title={'center': 'Count of anxious student that seek treatment'}, xlabel='Panic', ylabel='count'>"
      ]
     },
     "execution_count": 32,
     "metadata": {},
     "output_type": "execute_result"
    },
    {
     "data": {
      "image/png": "[encoded data removed]",
      "text/plain": [
       "<Figure size 720x504 with 1 Axes>"
      ]
     },
     "metadata": {
      "needs_background": "light"
     },
     "output_type": "display_data"
    }
   ],
   "source": [
    "plt.figure(figsize=(10,7))\n",
    "plt.title(\"Count of anxious student that seek treatment\")\n",
    "sns.countplot(x=\"Panic\", data=df, hue='Seeking Treatment')"
   ]
  },
  {
   "cell_type": "code",
   "execution_count": 33,
   "id": "b660eea5",
   "metadata": {},
   "outputs": [
    {
     "data": {
      "text/plain": [
       "Panic  Seeking Treatment\n",
       "No     No                   65\n",
       "       Yes                   2\n",
       "Yes    No                   29\n",
       "       Yes                   4\n",
       "dtype: int64"
      ]
     },
     "execution_count": 33,
     "metadata": {},
     "output_type": "execute_result"
    }
   ],
   "source": [
    "df.groupby([\"Panic\",\"Seeking Treatment\"]).size() #numeric representation of the chart above, showing the number of those who have panic attacks and are seeking treatment"
   ]
  },
  {
   "cell_type": "markdown",
   "id": "895c7917",
   "metadata": {},
   "source": [
    "## *Inference*"
   ]
  },
  {
   "cell_type": "markdown",
   "id": "43e3f01b",
   "metadata": {},
   "source": [
    "#### *From the results above, it can be said that students in year 1 are more susceptible, to have mental breakdowns, as seen from the number of students who are depressed, anxious and have panic attacks, this could be due to the change in environment and method of delivery(learning-wise), becasue from the charts above, the longer they spend in school, the more resilient to the pressures that comes with the university*"
   ]
  },
  {
   "cell_type": "markdown",
   "id": "bd76a993",
   "metadata": {},
   "source": [
    "#### *It is also derived from this data set that more people eventually quit education, as seen with the number of people in progressive years, this could be due to a number of factors. Also, the number of students seeking treatment for various mental challenges is something that needs to be considered, but that is beyond the scope of this data set . It is important to acknowledge that mental health issues can significantly impact a student's ability to adapt to new environments and learning methods. The data suggests that the longer individuals spend in school, the more equipped they become to handle the pressures associated with university life. However, it is also alarming to note that a significant number of students eventually drop out of education, indicating that multiple factors contribute to this trend. While this dataset does not provide insights into the reasons behind this, it is crucial to consider the number of students seeking treatment for mental health challenges, even though it falls outside the scope of this particular data set.*"
   ]
  },
  {
   "cell_type": "code",
   "execution_count": null,
   "id": "dbc5b2b3",
   "metadata": {},
   "outputs": [],
   "source": []
  }
 ],
 "metadata": {
  "kernelspec": {
   "display_name": "Python 3 (ipykernel)",
   "language": "python",
   "name": "python3"
  },
  "language_info": {
   "codemirror_mode": {
    "name": "ipython",
    "version": 3
   },
   "file_extension": ".py",
   "mimetype": "text/x-python",
   "name": "python",
   "nbconvert_exporter": "python",
   "pygments_lexer": "ipython3",
   "version": "3.9.7"
  }
 },
 "nbformat": 4,
 "nbformat_minor": 5
}
