{
 "cells": [
  {
   "cell_type": "code",
   "execution_count": 1,
   "id": "2fd87ee3",
   "metadata": {},
   "outputs": [],
   "source": [
    "import numpy as np\n",
    "import pandas as pd\n",
    "import matplotlib.pyplot as plt\n",
    "import seaborn as sns"
   ]
  },
  {
   "cell_type": "code",
   "execution_count": 2,
   "id": "0b9a87b9",
   "metadata": {},
   "outputs": [],
   "source": [
    "df = pd.read_csv('cleaned_real_estate.csv')"
   ]
  },
  {
   "cell_type": "code",
   "execution_count": 3,
   "id": "e89a0156",
   "metadata": {
    "scrolled": true
   },
   "outputs": [
    {
     "data": {
      "text/html": [
       "<div>\n",
       "<style scoped>\n",
       "    .dataframe tbody tr th:only-of-type {\n",
       "        vertical-align: middle;\n",
       "    }\n",
       "\n",
       "    .dataframe tbody tr th {\n",
       "        vertical-align: top;\n",
       "    }\n",
       "\n",
       "    .dataframe thead th {\n",
       "        text-align: right;\n",
       "    }\n",
       "</style>\n",
       "<table border=\"1\" class=\"dataframe\">\n",
       "  <thead>\n",
       "    <tr style=\"text-align: right;\">\n",
       "      <th></th>\n",
       "      <th>Serial Number</th>\n",
       "      <th>List Year</th>\n",
       "      <th>Date Recorded</th>\n",
       "      <th>Town</th>\n",
       "      <th>Address</th>\n",
       "      <th>Assessed Value</th>\n",
       "      <th>Sale Amount</th>\n",
       "      <th>Sales Ratio</th>\n",
       "      <th>Property Type</th>\n",
       "      <th>Residential Type</th>\n",
       "      <th>Non Use Code</th>\n",
       "      <th>Assessor Remarks</th>\n",
       "      <th>Location</th>\n",
       "    </tr>\n",
       "  </thead>\n",
       "  <tbody>\n",
       "    <tr>\n",
       "      <th>0</th>\n",
       "      <td>2020348</td>\n",
       "      <td>2020</td>\n",
       "      <td>2021-09-13</td>\n",
       "      <td>Ansonia</td>\n",
       "      <td>230 WAKELEE AVE</td>\n",
       "      <td>150500.0</td>\n",
       "      <td>325000.0</td>\n",
       "      <td>0.4630</td>\n",
       "      <td>Commercial</td>\n",
       "      <td>Single Family</td>\n",
       "      <td>25 - Other</td>\n",
       "      <td>LOW SALE</td>\n",
       "      <td>POINT (-73.04455 41.33126)</td>\n",
       "    </tr>\n",
       "    <tr>\n",
       "      <th>1</th>\n",
       "      <td>20002</td>\n",
       "      <td>2020</td>\n",
       "      <td>2020-10-02</td>\n",
       "      <td>Ashford</td>\n",
       "      <td>390 TURNPIKE RD</td>\n",
       "      <td>253000.0</td>\n",
       "      <td>430000.0</td>\n",
       "      <td>0.5883</td>\n",
       "      <td>Residential</td>\n",
       "      <td>Single Family</td>\n",
       "      <td>14 - Foreclosure</td>\n",
       "      <td>LAKE CHAFFEE NEIGHBORHOOD</td>\n",
       "      <td>POINT (-72.16387 41.85129)</td>\n",
       "    </tr>\n",
       "    <tr>\n",
       "      <th>2</th>\n",
       "      <td>200212</td>\n",
       "      <td>2020</td>\n",
       "      <td>2021-03-09</td>\n",
       "      <td>Avon</td>\n",
       "      <td>5 CHESTNUT DRIVE</td>\n",
       "      <td>130400.0</td>\n",
       "      <td>179900.0</td>\n",
       "      <td>0.7248</td>\n",
       "      <td>Residential</td>\n",
       "      <td>Condo</td>\n",
       "      <td>07 - Change in Property</td>\n",
       "      <td>Not on open market</td>\n",
       "      <td>POINT (-72.87917 41.77202)</td>\n",
       "    </tr>\n",
       "    <tr>\n",
       "      <th>3</th>\n",
       "      <td>200243</td>\n",
       "      <td>2020</td>\n",
       "      <td>2021-04-13</td>\n",
       "      <td>Avon</td>\n",
       "      <td>111 NORTHINGTON DRIVE</td>\n",
       "      <td>619290.0</td>\n",
       "      <td>890000.0</td>\n",
       "      <td>0.6958</td>\n",
       "      <td>Residential</td>\n",
       "      <td>Single Family</td>\n",
       "      <td>07 - Change in Property</td>\n",
       "      <td>Not on open market</td>\n",
       "      <td>POINT (-72.87917 41.77202)</td>\n",
       "    </tr>\n",
       "    <tr>\n",
       "      <th>4</th>\n",
       "      <td>200377</td>\n",
       "      <td>2020</td>\n",
       "      <td>2021-07-02</td>\n",
       "      <td>Avon</td>\n",
       "      <td>70 FAR HILLS DRIVE</td>\n",
       "      <td>862330.0</td>\n",
       "      <td>1447500.0</td>\n",
       "      <td>0.5957</td>\n",
       "      <td>Residential</td>\n",
       "      <td>Single Family</td>\n",
       "      <td>07 - Change in Property</td>\n",
       "      <td>Not on open market</td>\n",
       "      <td>POINT (-72.87917 41.77202)</td>\n",
       "    </tr>\n",
       "  </tbody>\n",
       "</table>\n",
       "</div>"
      ],
      "text/plain": [
       "   Serial Number  List Year Date Recorded     Town                Address  \\\n",
       "0        2020348       2020    2021-09-13  Ansonia        230 WAKELEE AVE   \n",
       "1          20002       2020    2020-10-02  Ashford        390 TURNPIKE RD   \n",
       "2         200212       2020    2021-03-09     Avon       5 CHESTNUT DRIVE   \n",
       "3         200243       2020    2021-04-13     Avon  111 NORTHINGTON DRIVE   \n",
       "4         200377       2020    2021-07-02     Avon     70 FAR HILLS DRIVE   \n",
       "\n",
       "   Assessed Value  Sale Amount  Sales Ratio Property Type Residential Type  \\\n",
       "0        150500.0     325000.0       0.4630    Commercial    Single Family   \n",
       "1        253000.0     430000.0       0.5883   Residential    Single Family   \n",
       "2        130400.0     179900.0       0.7248   Residential            Condo   \n",
       "3        619290.0     890000.0       0.6958   Residential    Single Family   \n",
       "4        862330.0    1447500.0       0.5957   Residential    Single Family   \n",
       "\n",
       "              Non Use Code           Assessor Remarks  \\\n",
       "0               25 - Other                   LOW SALE   \n",
       "1         14 - Foreclosure  LAKE CHAFFEE NEIGHBORHOOD   \n",
       "2  07 - Change in Property         Not on open market   \n",
       "3  07 - Change in Property         Not on open market   \n",
       "4  07 - Change in Property         Not on open market   \n",
       "\n",
       "                     Location  \n",
       "0  POINT (-73.04455 41.33126)  \n",
       "1  POINT (-72.16387 41.85129)  \n",
       "2  POINT (-72.87917 41.77202)  \n",
       "3  POINT (-72.87917 41.77202)  \n",
       "4  POINT (-72.87917 41.77202)  "
      ]
     },
     "execution_count": 3,
     "metadata": {},
     "output_type": "execute_result"
    }
   ],
   "source": [
    "df.head()"
   ]
  },
  {
   "cell_type": "code",
   "execution_count": 4,
   "id": "e78583eb",
   "metadata": {},
   "outputs": [
    {
     "data": {
      "text/plain": [
       "Serial Number         int64\n",
       "List Year             int64\n",
       "Date Recorded        object\n",
       "Town                 object\n",
       "Address              object\n",
       "Assessed Value      float64\n",
       "Sale Amount         float64\n",
       "Sales Ratio         float64\n",
       "Property Type        object\n",
       "Residential Type     object\n",
       "Non Use Code         object\n",
       "Assessor Remarks     object\n",
       "Location             object\n",
       "dtype: object"
      ]
     },
     "execution_count": 4,
     "metadata": {},
     "output_type": "execute_result"
    }
   ],
   "source": [
    "df.dtypes"
   ]
  },
  {
   "cell_type": "code",
   "execution_count": 5,
   "id": "f7228cbc",
   "metadata": {},
   "outputs": [
    {
     "data": {
      "text/plain": [
       "Text(0.5, 1.0, 'The number of properties per year')"
      ]
     },
     "execution_count": 5,
     "metadata": {},
     "output_type": "execute_result"
    },
    {
     "data": {
      "image/png": "[encoded data removed]",
      "text/plain": [
       "<Figure size 1152x576 with 1 Axes>"
      ]
     },
     "metadata": {
      "needs_background": "light"
     },
     "output_type": "display_data"
    }
   ],
   "source": [
    "plt.figure(figsize=(16,8))\n",
    "sns.countplot(y='List Year', data=df, order=df['List Year'].value_counts(ascending=False).index)\n",
    "plt.title(\"The number of properties per year\")"
   ]
  },
  {
   "cell_type": "code",
   "execution_count": 6,
   "id": "beef5bb3",
   "metadata": {},
   "outputs": [
    {
     "data": {
      "text/plain": [
       "List Year\n",
       "2004    84027\n",
       "2020    66592\n",
       "2003    64232\n",
       "2005    61601\n",
       "2002    59680\n",
       "2001    59582\n",
       "2019    58954\n",
       "2018    50709\n",
       "2016    49773\n",
       "2014    49563\n",
       "2006    48778\n",
       "2015    46651\n",
       "2017    45688\n",
       "2009    42508\n",
       "2013    39943\n",
       "2012    35973\n",
       "2007    35616\n",
       "2010    33491\n",
       "2008    32735\n",
       "2011    31065\n",
       "dtype: int64"
      ]
     },
     "execution_count": 6,
     "metadata": {},
     "output_type": "execute_result"
    }
   ],
   "source": [
    "df.groupby('List Year').size().sort_values(ascending=False)"
   ]
  },
  {
   "cell_type": "code",
   "execution_count": 7,
   "id": "270a21f1",
   "metadata": {},
   "outputs": [
    {
     "data": {
      "text/plain": [
       "Town\n",
       "Bridgeport    34199\n",
       "Stamford      32529\n",
       "Waterbury     28505\n",
       "Norwalk       23960\n",
       "New Haven     21346\n",
       "              ...  \n",
       "Colebrook       519\n",
       "Hartland        448\n",
       "Scotland        430\n",
       "Canaan          429\n",
       "Union           261\n",
       "Length: 169, dtype: int64"
      ]
     },
     "execution_count": 7,
     "metadata": {},
     "output_type": "execute_result"
    }
   ],
   "source": [
    "df.groupby('Town').size().sort_values(ascending=False)"
   ]
  },
  {
   "cell_type": "code",
   "execution_count": 8,
   "id": "b9c9644c",
   "metadata": {},
   "outputs": [
    {
     "data": {
      "text/plain": [
       "Text(0.5, 1.0, 'The ')"
      ]
     },
     "execution_count": 8,
     "metadata": {},
     "output_type": "execute_result"
    },
    {
     "data": {
      "image/png": "[encoded data removed]",
      "text/plain": [
       "<Figure size 1152x576 with 1 Axes>"
      ]
     },
     "metadata": {
      "needs_background": "light"
     },
     "output_type": "display_data"
    }
   ],
   "source": [
    "plt.figure(figsize=(16,8))\n",
    "sns.countplot(y='Property Type', data=df, order=df['Property Type'].value_counts(ascending=False).index)\n",
    "plt.title('The ')"
   ]
  },
  {
   "cell_type": "code",
   "execution_count": 9,
   "id": "095c873d",
   "metadata": {},
   "outputs": [
    {
     "data": {
      "text/plain": [
       "Property Type\n",
       "Single Family     778975\n",
       "Condo             110452\n",
       "Residential        60728\n",
       "Two Family         26407\n",
       "Three Family       12586\n",
       "Vacant Land         3163\n",
       "Four Family         2150\n",
       "Commercial          1981\n",
       "Apartments           486\n",
       "Industrial           228\n",
       "Public Utility         5\n",
       "dtype: int64"
      ]
     },
     "execution_count": 9,
     "metadata": {},
     "output_type": "execute_result"
    }
   ],
   "source": [
    "df.groupby('Property Type').size().sort_values(ascending=False)"
   ]
  },
  {
   "cell_type": "code",
   "execution_count": 10,
   "id": "963c8e2e",
   "metadata": {
    "scrolled": true
   },
   "outputs": [
    {
     "data": {
      "text/plain": [
       "Town           Property Type \n",
       "Bridgeport     Single Family     24528\n",
       "Stamford       Single Family     22610\n",
       "Waterbury      Single Family     19762\n",
       "Norwalk        Single Family     16861\n",
       "West Hartford  Single Family     16211\n",
       "                                 ...  \n",
       "Thompson       Public Utility        1\n",
       "Franklin       Two Family            1\n",
       "               Apartments            1\n",
       "Tolland        Industrial            1\n",
       "Woodstock      Three Family          1\n",
       "Name: Property Type, Length: 1251, dtype: int64"
      ]
     },
     "execution_count": 10,
     "metadata": {},
     "output_type": "execute_result"
    }
   ],
   "source": [
    "df.groupby('Town')['Property Type'].value_counts().sort_values(ascending=False)"
   ]
  },
  {
   "cell_type": "code",
   "execution_count": 11,
   "id": "ed04e675",
   "metadata": {},
   "outputs": [
    {
     "data": {
      "text/plain": [
       "Town        List Year  Property Type \n",
       "Bridgeport  2004       Single Family     3700\n",
       "Waterbury   2004       Single Family     3423\n",
       "Bridgeport  2005       Single Family     3212\n",
       "Stamford    2004       Single Family     3080\n",
       "Bridgeport  2002       Single Family     3033\n",
       "                                         ... \n",
       "Griswold    2020       Public Utility       1\n",
       "Colebrook   2018       Two Family           1\n",
       "            2017       Two Family           1\n",
       "Suffield    2003       Single Family        1\n",
       "Plainfield  2020       Public Utility       1\n",
       "Name: Property Type, Length: 7320, dtype: int64"
      ]
     },
     "execution_count": 11,
     "metadata": {},
     "output_type": "execute_result"
    }
   ],
   "source": [
    "df.groupby(['Town','List Year'])['Property Type'].value_counts().sort_values(ascending=False)"
   ]
  },
  {
   "cell_type": "code",
   "execution_count": 12,
   "id": "d04152ef",
   "metadata": {},
   "outputs": [
    {
     "data": {
      "text/plain": [
       "<AxesSubplot:xlabel='count', ylabel='Residential Type'>"
      ]
     },
     "execution_count": 12,
     "metadata": {},
     "output_type": "execute_result"
    },
    {
     "data": {
      "image/png": "[encoded data removed]",
      "text/plain": [
       "<Figure size 1152x576 with 1 Axes>"
      ]
     },
     "metadata": {
      "needs_background": "light"
     },
     "output_type": "display_data"
    }
   ],
   "source": [
    "plt.figure(figsize=(16,8))\n",
    "sns.countplot(y='Residential Type', data=df, order=df['Residential Type'].value_counts(ascending=False).index)"
   ]
  },
  {
   "cell_type": "code",
   "execution_count": 13,
   "id": "de5c5324",
   "metadata": {},
   "outputs": [
    {
     "data": {
      "text/plain": [
       "Residential Type\n",
       "Single Family    828197\n",
       "Condo            122857\n",
       "Two Family        29608\n",
       "Three Family      14081\n",
       "Four Family        2418\n",
       "dtype: int64"
      ]
     },
     "execution_count": 13,
     "metadata": {},
     "output_type": "execute_result"
    }
   ],
   "source": [
    "df.groupby('Residential Type').size().sort_values(ascending=False)"
   ]
  },
  {
   "cell_type": "code",
   "execution_count": 14,
   "id": "2d262d11",
   "metadata": {},
   "outputs": [
    {
     "data": {
      "text/plain": [
       "Town           Residential Type\n",
       "Bridgeport     Single Family       24538\n",
       "Stamford       Single Family       24031\n",
       "Waterbury      Single Family       21277\n",
       "Norwalk        Single Family       18009\n",
       "West Hartford  Single Family       17316\n",
       "                                   ...  \n",
       "North Haven    Four Family             1\n",
       "Southbury      Four Family             1\n",
       "Willington     Four Family             1\n",
       "Madison        Three Family            1\n",
       "Woodstock      Three Family            1\n",
       "Name: Residential Type, Length: 722, dtype: int64"
      ]
     },
     "execution_count": 14,
     "metadata": {},
     "output_type": "execute_result"
    }
   ],
   "source": [
    "df.groupby('Town')['Residential Type'].value_counts().sort_values(ascending=False)"
   ]
  },
  {
   "cell_type": "code",
   "execution_count": 15,
   "id": "f8bc56b2",
   "metadata": {},
   "outputs": [
    {
     "data": {
      "text/plain": [
       "Town        List Year  Residential Type\n",
       "Bridgeport  2004       Single Family       3700\n",
       "Waterbury   2004       Single Family       3423\n",
       "Bridgeport  2005       Single Family       3212\n",
       "Stamford    2004       Single Family       3080\n",
       "Bridgeport  2002       Single Family       3033\n",
       "                                           ... \n",
       "Columbia    2009       Condo                  1\n",
       "Somers      2011       Two Family             1\n",
       "                       Four Family            1\n",
       "Columbia    2009       Three Family           1\n",
       "Woodstock   2020       Two Family             1\n",
       "Name: Residential Type, Length: 7262, dtype: int64"
      ]
     },
     "execution_count": 15,
     "metadata": {},
     "output_type": "execute_result"
    }
   ],
   "source": [
    "df.groupby(['Town','List Year'])['Residential Type'].value_counts().sort_values(ascending=False)"
   ]
  },
  {
   "cell_type": "markdown",
   "id": "dca0cab1",
   "metadata": {},
   "source": [
    "#### *It seems that Single Family is both a type of residential property and a property type*"
   ]
  },
  {
   "cell_type": "code",
   "execution_count": 16,
   "id": "e56a42f0",
   "metadata": {},
   "outputs": [
    {
     "data": {
      "text/plain": [
       "<AxesSubplot:xlabel='List Year', ylabel='Assessed Value'>"
      ]
     },
     "execution_count": 16,
     "metadata": {},
     "output_type": "execute_result"
    },
    {
     "data": {
      "image/png": "[encoded data removed]",
      "text/plain": [
       "<Figure size 432x288 with 1 Axes>"
      ]
     },
     "metadata": {
      "needs_background": "light"
     },
     "output_type": "display_data"
    }
   ],
   "source": [
    "sns.lineplot(data=df, x='List Year', y='Assessed Value')"
   ]
  },
  {
   "cell_type": "code",
   "execution_count": 17,
   "id": "77b9d386",
   "metadata": {},
   "outputs": [
    {
     "data": {
      "text/plain": [
       "<AxesSubplot:xlabel='List Year', ylabel='Sale Amount'>"
      ]
     },
     "execution_count": 17,
     "metadata": {},
     "output_type": "execute_result"
    },
    {
     "data": {
      "image/png": "[encoded data removed]",
      "text/plain": [
       "<Figure size 432x288 with 1 Axes>"
      ]
     },
     "metadata": {
      "needs_background": "light"
     },
     "output_type": "display_data"
    }
   ],
   "source": [
    "sns.lineplot(data=df, x='List Year', y='Sale Amount')"
   ]
  },
  {
   "cell_type": "code",
   "execution_count": 19,
   "id": "be04bfee",
   "metadata": {},
   "outputs": [
    {
     "data": {
      "text/plain": [
       "421258"
      ]
     },
     "execution_count": 19,
     "metadata": {},
     "output_type": "execute_result"
    }
   ],
   "source": [
    "df['Sales Ratio'].idxmax()"
   ]
  },
  {
   "cell_type": "code",
   "execution_count": 20,
   "id": "b128a590",
   "metadata": {
    "scrolled": true
   },
   "outputs": [
    {
     "data": {
      "text/plain": [
       "Serial Number                            60043\n",
       "List Year                                 2006\n",
       "Date Recorded                       2007-03-19\n",
       "Town                                 Salisbury\n",
       "Address                            209 MAIN ST\n",
       "Assessed Value                       1226420.0\n",
       "Sale Amount                                1.0\n",
       "Sales Ratio                          1226420.0\n",
       "Property Type                    Single Family\n",
       "Residential Type                 Single Family\n",
       "Non Use Code             29 - No Consideration\n",
       "Assessor Remarks                    WATERFRONT\n",
       "Location            POINT (-73.43333 41.97247)\n",
       "Name: 421258, dtype: object"
      ]
     },
     "execution_count": 20,
     "metadata": {},
     "output_type": "execute_result"
    }
   ],
   "source": [
    "df.iloc[df['Sales Ratio'].idxmax()]"
   ]
  },
  {
   "cell_type": "markdown",
   "id": "47fd11e9",
   "metadata": {},
   "source": [
    "#### *From the above result, it is obvious that there is a error in the Selling Price for the property, as one can't have the Price at 1 USD, having been evaluated at 1,226,420 USD, hence, this column would be dropped*"
   ]
  },
  {
   "cell_type": "code",
   "execution_count": 21,
   "id": "25cd0d62",
   "metadata": {},
   "outputs": [],
   "source": [
    "df.drop(421258, inplace=True)"
   ]
  },
  {
   "cell_type": "code",
   "execution_count": 24,
   "id": "71613a88",
   "metadata": {
    "scrolled": false
   },
   "outputs": [
    {
     "data": {
      "text/html": [
       "<div>\n",
       "<style scoped>\n",
       "    .dataframe tbody tr th:only-of-type {\n",
       "        vertical-align: middle;\n",
       "    }\n",
       "\n",
       "    .dataframe tbody tr th {\n",
       "        vertical-align: top;\n",
       "    }\n",
       "\n",
       "    .dataframe thead th {\n",
       "        text-align: right;\n",
       "    }\n",
       "</style>\n",
       "<table border=\"1\" class=\"dataframe\">\n",
       "  <thead>\n",
       "    <tr style=\"text-align: right;\">\n",
       "      <th></th>\n",
       "      <th>Serial Number</th>\n",
       "      <th>List Year</th>\n",
       "      <th>Date Recorded</th>\n",
       "      <th>Town</th>\n",
       "      <th>Address</th>\n",
       "      <th>Assessed Value</th>\n",
       "      <th>Sale Amount</th>\n",
       "      <th>Sales Ratio</th>\n",
       "      <th>Property Type</th>\n",
       "      <th>Residential Type</th>\n",
       "      <th>Non Use Code</th>\n",
       "      <th>Assessor Remarks</th>\n",
       "      <th>Location</th>\n",
       "    </tr>\n",
       "  </thead>\n",
       "  <tbody>\n",
       "    <tr>\n",
       "      <th>131201</th>\n",
       "      <td>20181</td>\n",
       "      <td>2002</td>\n",
       "      <td>2002-11-12</td>\n",
       "      <td>Hartford</td>\n",
       "      <td>57 GILLETT ST</td>\n",
       "      <td>165060.0</td>\n",
       "      <td>1.0</td>\n",
       "      <td>165060.0</td>\n",
       "      <td>Single Family</td>\n",
       "      <td>Single Family</td>\n",
       "      <td>25 - Other</td>\n",
       "      <td>Foreclosure related sale</td>\n",
       "      <td>POINT (-72.67447 41.74625)</td>\n",
       "    </tr>\n",
       "    <tr>\n",
       "      <th>194329</th>\n",
       "      <td>30270</td>\n",
       "      <td>2003</td>\n",
       "      <td>2003-12-30</td>\n",
       "      <td>Brooklyn</td>\n",
       "      <td>HARTFORD RD</td>\n",
       "      <td>490.0</td>\n",
       "      <td>1.0</td>\n",
       "      <td>490.0</td>\n",
       "      <td>Single Family</td>\n",
       "      <td>Single Family</td>\n",
       "      <td>28.0</td>\n",
       "      <td>SHORT SALE</td>\n",
       "      <td>POINT (-71.92361 41.81312)</td>\n",
       "    </tr>\n",
       "    <tr>\n",
       "      <th>205663</th>\n",
       "      <td>31255</td>\n",
       "      <td>2003</td>\n",
       "      <td>2004-07-22</td>\n",
       "      <td>Bristol</td>\n",
       "      <td>66 EMMETT ST 12</td>\n",
       "      <td>9520.0</td>\n",
       "      <td>1.0</td>\n",
       "      <td>9520.0</td>\n",
       "      <td>Single Family</td>\n",
       "      <td>Single Family</td>\n",
       "      <td>3.0</td>\n",
       "      <td>ESTATE SALE</td>\n",
       "      <td>POINT (-72.91363 41.66961)</td>\n",
       "    </tr>\n",
       "    <tr>\n",
       "      <th>214031</th>\n",
       "      <td>30106</td>\n",
       "      <td>2003</td>\n",
       "      <td>2004-03-19</td>\n",
       "      <td>Thompson</td>\n",
       "      <td>0 &amp; 12 JOHNSON ST</td>\n",
       "      <td>83000.0</td>\n",
       "      <td>1.0</td>\n",
       "      <td>83000.0</td>\n",
       "      <td>Single Family</td>\n",
       "      <td>Single Family</td>\n",
       "      <td>29.0</td>\n",
       "      <td>LEASED LAND</td>\n",
       "      <td>POINT (-71.85292 42.01311)</td>\n",
       "    </tr>\n",
       "    <tr>\n",
       "      <th>217860</th>\n",
       "      <td>30105</td>\n",
       "      <td>2003</td>\n",
       "      <td>2004-03-19</td>\n",
       "      <td>Thompson</td>\n",
       "      <td>0 &amp; 12 JOHNSON ST</td>\n",
       "      <td>83000.0</td>\n",
       "      <td>1.0</td>\n",
       "      <td>83000.0</td>\n",
       "      <td>Single Family</td>\n",
       "      <td>Single Family</td>\n",
       "      <td>29.0</td>\n",
       "      <td>LEASED LAND</td>\n",
       "      <td>POINT (-71.85292 42.01311)</td>\n",
       "    </tr>\n",
       "  </tbody>\n",
       "</table>\n",
       "</div>"
      ],
      "text/plain": [
       "        Serial Number  List Year Date Recorded      Town            Address  \\\n",
       "131201          20181       2002    2002-11-12  Hartford      57 GILLETT ST   \n",
       "194329          30270       2003    2003-12-30  Brooklyn        HARTFORD RD   \n",
       "205663          31255       2003    2004-07-22   Bristol    66 EMMETT ST 12   \n",
       "214031          30106       2003    2004-03-19  Thompson  0 & 12 JOHNSON ST   \n",
       "217860          30105       2003    2004-03-19  Thompson  0 & 12 JOHNSON ST   \n",
       "\n",
       "        Assessed Value  Sale Amount  Sales Ratio  Property Type  \\\n",
       "131201        165060.0          1.0     165060.0  Single Family   \n",
       "194329           490.0          1.0        490.0  Single Family   \n",
       "205663          9520.0          1.0       9520.0  Single Family   \n",
       "214031         83000.0          1.0      83000.0  Single Family   \n",
       "217860         83000.0          1.0      83000.0  Single Family   \n",
       "\n",
       "       Residential Type Non Use Code          Assessor Remarks  \\\n",
       "131201    Single Family   25 - Other  Foreclosure related sale   \n",
       "194329    Single Family         28.0                SHORT SALE   \n",
       "205663    Single Family          3.0               ESTATE SALE   \n",
       "214031    Single Family         29.0               LEASED LAND   \n",
       "217860    Single Family         29.0               LEASED LAND   \n",
       "\n",
       "                          Location  \n",
       "131201  POINT (-72.67447 41.74625)  \n",
       "194329  POINT (-71.92361 41.81312)  \n",
       "205663  POINT (-72.91363 41.66961)  \n",
       "214031  POINT (-71.85292 42.01311)  \n",
       "217860  POINT (-71.85292 42.01311)  "
      ]
     },
     "execution_count": 24,
     "metadata": {},
     "output_type": "execute_result"
    }
   ],
   "source": [
    "df[df['Sale Amount'] == 1].head()"
   ]
  },
  {
   "cell_type": "markdown",
   "id": "b5a98e8f",
   "metadata": {},
   "source": [
    "#### *We can see that there are other properties with selling price of 1 USD, these outliers, will be dropped from the DataFrame*"
   ]
  },
  {
   "cell_type": "code",
   "execution_count": 25,
   "id": "bd193f1c",
   "metadata": {},
   "outputs": [],
   "source": [
    "# Remove rows where the 'Sale Amount' column equals 1\n",
    "df = df[~(df['Sale Amount'] == 1)]"
   ]
  },
  {
   "cell_type": "code",
   "execution_count": 29,
   "id": "b00637c8",
   "metadata": {},
   "outputs": [
    {
     "data": {
      "text/plain": [
       "Serial Number                           10287\n",
       "List Year                                2001\n",
       "Date Recorded                      2001-11-06\n",
       "Town                                 Stamford\n",
       "Address                          72 SPRUCE ST\n",
       "Assessed Value                      4130350.0\n",
       "Sale Amount                             100.0\n",
       "Sales Ratio                           41303.5\n",
       "Property Type                   Single Family\n",
       "Residential Type                Single Family\n",
       "Non Use Code                               25\n",
       "Assessor Remarks         MULTIPLE PARCEL SALE\n",
       "Location            POINT (-73.5499 41.05055)\n",
       "Name: 121203, dtype: object"
      ]
     },
     "execution_count": 29,
     "metadata": {},
     "output_type": "execute_result"
    }
   ],
   "source": [
    "df.iloc[df['Sales Ratio'].idxmax()]"
   ]
  },
  {
   "cell_type": "code",
   "execution_count": 32,
   "id": "6af26e3d",
   "metadata": {},
   "outputs": [
    {
     "data": {
      "text/html": [
       "<div>\n",
       "<style scoped>\n",
       "    .dataframe tbody tr th:only-of-type {\n",
       "        vertical-align: middle;\n",
       "    }\n",
       "\n",
       "    .dataframe tbody tr th {\n",
       "        vertical-align: top;\n",
       "    }\n",
       "\n",
       "    .dataframe thead th {\n",
       "        text-align: right;\n",
       "    }\n",
       "</style>\n",
       "<table border=\"1\" class=\"dataframe\">\n",
       "  <thead>\n",
       "    <tr style=\"text-align: right;\">\n",
       "      <th></th>\n",
       "      <th>Serial Number</th>\n",
       "      <th>List Year</th>\n",
       "      <th>Date Recorded</th>\n",
       "      <th>Town</th>\n",
       "      <th>Address</th>\n",
       "      <th>Assessed Value</th>\n",
       "      <th>Sale Amount</th>\n",
       "      <th>Sales Ratio</th>\n",
       "      <th>Property Type</th>\n",
       "      <th>Residential Type</th>\n",
       "      <th>Non Use Code</th>\n",
       "      <th>Assessor Remarks</th>\n",
       "      <th>Location</th>\n",
       "    </tr>\n",
       "  </thead>\n",
       "  <tbody>\n",
       "    <tr>\n",
       "      <th>633923</th>\n",
       "      <td>110235</td>\n",
       "      <td>2011</td>\n",
       "      <td>2012-07-27</td>\n",
       "      <td>Stonington</td>\n",
       "      <td>4 CIRCLE DR</td>\n",
       "      <td>0.0</td>\n",
       "      <td>82000.0</td>\n",
       "      <td>0.0</td>\n",
       "      <td>Single Family</td>\n",
       "      <td>Single Family</td>\n",
       "      <td>07 - Change in Property</td>\n",
       "      <td>NEW MOBILE HOME PUT ON LOT</td>\n",
       "      <td>POINT (-71.92085 41.35137)</td>\n",
       "    </tr>\n",
       "    <tr>\n",
       "      <th>359861</th>\n",
       "      <td>50591</td>\n",
       "      <td>2005</td>\n",
       "      <td>2006-08-29</td>\n",
       "      <td>South Windsor</td>\n",
       "      <td>2504 MILL POND DR</td>\n",
       "      <td>0.0</td>\n",
       "      <td>234000.0</td>\n",
       "      <td>0.0</td>\n",
       "      <td>Single Family</td>\n",
       "      <td>Single Family</td>\n",
       "      <td>7</td>\n",
       "      <td>PUD</td>\n",
       "      <td>POINT (-72.59016 41.82629)</td>\n",
       "    </tr>\n",
       "    <tr>\n",
       "      <th>133707</th>\n",
       "      <td>20119</td>\n",
       "      <td>2002</td>\n",
       "      <td>2003-06-23</td>\n",
       "      <td>Bethany</td>\n",
       "      <td>17 CRESTWOOD RD</td>\n",
       "      <td>191130.0</td>\n",
       "      <td>0.0</td>\n",
       "      <td>0.0</td>\n",
       "      <td>Single Family</td>\n",
       "      <td>Single Family</td>\n",
       "      <td>1.0</td>\n",
       "      <td>MOBILE HOME</td>\n",
       "      <td>POINT (-73.0074 41.42331)</td>\n",
       "    </tr>\n",
       "    <tr>\n",
       "      <th>302445</th>\n",
       "      <td>40772</td>\n",
       "      <td>2004</td>\n",
       "      <td>2005-07-15</td>\n",
       "      <td>Westport</td>\n",
       "      <td>29 SILVER BRK RD</td>\n",
       "      <td>0.0</td>\n",
       "      <td>2399000.0</td>\n",
       "      <td>0.0</td>\n",
       "      <td>Single Family</td>\n",
       "      <td>Single Family</td>\n",
       "      <td>7.0</td>\n",
       "      <td>NEW CONSTRUCTION</td>\n",
       "      <td>POINT (-73.34215 41.1928)</td>\n",
       "    </tr>\n",
       "    <tr>\n",
       "      <th>133705</th>\n",
       "      <td>10299</td>\n",
       "      <td>2001</td>\n",
       "      <td>2002-09-25</td>\n",
       "      <td>Windsor Locks</td>\n",
       "      <td>563 ELM ST</td>\n",
       "      <td>0.0</td>\n",
       "      <td>200000.0</td>\n",
       "      <td>0.0</td>\n",
       "      <td>Single Family</td>\n",
       "      <td>Single Family</td>\n",
       "      <td>6.0</td>\n",
       "      <td>SALES RATIO</td>\n",
       "      <td>POINT (-72.66706 41.92871)</td>\n",
       "    </tr>\n",
       "  </tbody>\n",
       "</table>\n",
       "</div>"
      ],
      "text/plain": [
       "        Serial Number  List Year Date Recorded           Town  \\\n",
       "633923         110235       2011    2012-07-27     Stonington   \n",
       "359861          50591       2005    2006-08-29  South Windsor   \n",
       "133707          20119       2002    2003-06-23        Bethany   \n",
       "302445          40772       2004    2005-07-15       Westport   \n",
       "133705          10299       2001    2002-09-25  Windsor Locks   \n",
       "\n",
       "                  Address  Assessed Value  Sale Amount  Sales Ratio  \\\n",
       "633923        4 CIRCLE DR             0.0      82000.0          0.0   \n",
       "359861  2504 MILL POND DR             0.0     234000.0          0.0   \n",
       "133707    17 CRESTWOOD RD        191130.0          0.0          0.0   \n",
       "302445   29 SILVER BRK RD             0.0    2399000.0          0.0   \n",
       "133705         563 ELM ST             0.0     200000.0          0.0   \n",
       "\n",
       "        Property Type Residential Type             Non Use Code  \\\n",
       "633923  Single Family    Single Family  07 - Change in Property   \n",
       "359861  Single Family    Single Family                        7   \n",
       "133707  Single Family    Single Family                      1.0   \n",
       "302445  Single Family    Single Family                      7.0   \n",
       "133705  Single Family    Single Family                      6.0   \n",
       "\n",
       "                  Assessor Remarks                    Location  \n",
       "633923  NEW MOBILE HOME PUT ON LOT  POINT (-71.92085 41.35137)  \n",
       "359861                         PUD  POINT (-72.59016 41.82629)  \n",
       "133707                 MOBILE HOME   POINT (-73.0074 41.42331)  \n",
       "302445            NEW CONSTRUCTION   POINT (-73.34215 41.1928)  \n",
       "133705                 SALES RATIO  POINT (-72.66706 41.92871)  "
      ]
     },
     "execution_count": 32,
     "metadata": {},
     "output_type": "execute_result"
    }
   ],
   "source": [
    "df.sort_values(by=['Sales Ratio']).head(5) #to get the top 5 values in the DataFrame, sorted by the Sales Ratio column"
   ]
  },
  {
   "cell_type": "code",
   "execution_count": 33,
   "id": "1443c702",
   "metadata": {},
   "outputs": [
    {
     "data": {
      "text/html": [
       "<div>\n",
       "<style scoped>\n",
       "    .dataframe tbody tr th:only-of-type {\n",
       "        vertical-align: middle;\n",
       "    }\n",
       "\n",
       "    .dataframe tbody tr th {\n",
       "        vertical-align: top;\n",
       "    }\n",
       "\n",
       "    .dataframe thead th {\n",
       "        text-align: right;\n",
       "    }\n",
       "</style>\n",
       "<table border=\"1\" class=\"dataframe\">\n",
       "  <thead>\n",
       "    <tr style=\"text-align: right;\">\n",
       "      <th></th>\n",
       "      <th>Serial Number</th>\n",
       "      <th>List Year</th>\n",
       "      <th>Date Recorded</th>\n",
       "      <th>Town</th>\n",
       "      <th>Address</th>\n",
       "      <th>Assessed Value</th>\n",
       "      <th>Sale Amount</th>\n",
       "      <th>Sales Ratio</th>\n",
       "      <th>Property Type</th>\n",
       "      <th>Residential Type</th>\n",
       "      <th>Non Use Code</th>\n",
       "      <th>Assessor Remarks</th>\n",
       "      <th>Location</th>\n",
       "    </tr>\n",
       "  </thead>\n",
       "  <tbody>\n",
       "    <tr>\n",
       "      <th>322718</th>\n",
       "      <td>40066</td>\n",
       "      <td>2004</td>\n",
       "      <td>2004-10-29</td>\n",
       "      <td>Newington</td>\n",
       "      <td>BERLIN TPKE</td>\n",
       "      <td>182000.0</td>\n",
       "      <td>10.0</td>\n",
       "      <td>18200.00000</td>\n",
       "      <td>Single Family</td>\n",
       "      <td>Single Family</td>\n",
       "      <td>29.0</td>\n",
       "      <td>Sale of a foreclosed property</td>\n",
       "      <td>POINT (-72.73822 41.6759)</td>\n",
       "    </tr>\n",
       "    <tr>\n",
       "      <th>102647</th>\n",
       "      <td>10717</td>\n",
       "      <td>2001</td>\n",
       "      <td>2002-01-24</td>\n",
       "      <td>Stamford</td>\n",
       "      <td>95 PROSPECT ST</td>\n",
       "      <td>221060.0</td>\n",
       "      <td>10.0</td>\n",
       "      <td>22106.00000</td>\n",
       "      <td>Single Family</td>\n",
       "      <td>Single Family</td>\n",
       "      <td>8</td>\n",
       "      <td>MULTIPLE PARCEL SALE</td>\n",
       "      <td>POINT (-73.51218 41.10302)</td>\n",
       "    </tr>\n",
       "    <tr>\n",
       "      <th>111506</th>\n",
       "      <td>10286</td>\n",
       "      <td>2001</td>\n",
       "      <td>2001-11-06</td>\n",
       "      <td>Stamford</td>\n",
       "      <td>72 SPRUCE ST</td>\n",
       "      <td>4130350.0</td>\n",
       "      <td>150.0</td>\n",
       "      <td>27535.66667</td>\n",
       "      <td>Single Family</td>\n",
       "      <td>Single Family</td>\n",
       "      <td>25</td>\n",
       "      <td>MULTIPLE PARCEL SALE</td>\n",
       "      <td>POINT (-73.5499 41.05055)</td>\n",
       "    </tr>\n",
       "    <tr>\n",
       "      <th>97245</th>\n",
       "      <td>10272</td>\n",
       "      <td>2001</td>\n",
       "      <td>2001-11-08</td>\n",
       "      <td>Stamford</td>\n",
       "      <td>72 SPRUCE ST</td>\n",
       "      <td>4130350.0</td>\n",
       "      <td>125.0</td>\n",
       "      <td>33042.80000</td>\n",
       "      <td>Single Family</td>\n",
       "      <td>Single Family</td>\n",
       "      <td>25</td>\n",
       "      <td>MULTIPLE PARCEL SALE</td>\n",
       "      <td>POINT (-73.5499 41.05055)</td>\n",
       "    </tr>\n",
       "    <tr>\n",
       "      <th>121203</th>\n",
       "      <td>10287</td>\n",
       "      <td>2001</td>\n",
       "      <td>2001-11-06</td>\n",
       "      <td>Stamford</td>\n",
       "      <td>72 SPRUCE ST</td>\n",
       "      <td>4130350.0</td>\n",
       "      <td>100.0</td>\n",
       "      <td>41303.50000</td>\n",
       "      <td>Single Family</td>\n",
       "      <td>Single Family</td>\n",
       "      <td>25</td>\n",
       "      <td>MULTIPLE PARCEL SALE</td>\n",
       "      <td>POINT (-73.5499 41.05055)</td>\n",
       "    </tr>\n",
       "  </tbody>\n",
       "</table>\n",
       "</div>"
      ],
      "text/plain": [
       "        Serial Number  List Year Date Recorded       Town         Address  \\\n",
       "322718          40066       2004    2004-10-29  Newington     BERLIN TPKE   \n",
       "102647          10717       2001    2002-01-24   Stamford  95 PROSPECT ST   \n",
       "111506          10286       2001    2001-11-06   Stamford    72 SPRUCE ST   \n",
       "97245           10272       2001    2001-11-08   Stamford    72 SPRUCE ST   \n",
       "121203          10287       2001    2001-11-06   Stamford    72 SPRUCE ST   \n",
       "\n",
       "        Assessed Value  Sale Amount  Sales Ratio  Property Type  \\\n",
       "322718        182000.0         10.0  18200.00000  Single Family   \n",
       "102647        221060.0         10.0  22106.00000  Single Family   \n",
       "111506       4130350.0        150.0  27535.66667  Single Family   \n",
       "97245        4130350.0        125.0  33042.80000  Single Family   \n",
       "121203       4130350.0        100.0  41303.50000  Single Family   \n",
       "\n",
       "       Residential Type Non Use Code               Assessor Remarks  \\\n",
       "322718    Single Family         29.0  Sale of a foreclosed property   \n",
       "102647    Single Family            8           MULTIPLE PARCEL SALE   \n",
       "111506    Single Family           25           MULTIPLE PARCEL SALE   \n",
       "97245     Single Family           25           MULTIPLE PARCEL SALE   \n",
       "121203    Single Family           25           MULTIPLE PARCEL SALE   \n",
       "\n",
       "                          Location  \n",
       "322718   POINT (-72.73822 41.6759)  \n",
       "102647  POINT (-73.51218 41.10302)  \n",
       "111506   POINT (-73.5499 41.05055)  \n",
       "97245    POINT (-73.5499 41.05055)  \n",
       "121203   POINT (-73.5499 41.05055)  "
      ]
     },
     "execution_count": 33,
     "metadata": {},
     "output_type": "execute_result"
    }
   ],
   "source": [
    "df.sort_values(by=['Sales Ratio']).tail(5) #to get the last 5 values in the DataFrame, sorted by the Sales Ratio column"
   ]
  },
  {
   "cell_type": "code",
   "execution_count": 18,
   "id": "b7c0a945",
   "metadata": {},
   "outputs": [
    {
     "data": {
      "text/plain": [
       "array([[1.        , 0.11096162],\n",
       "       [0.11096162, 1.        ]])"
      ]
     },
     "execution_count": 18,
     "metadata": {},
     "output_type": "execute_result"
    }
   ],
   "source": [
    "np.corrcoef(df['Assessed Value'], df['Sale Amount'])"
   ]
  },
  {
   "cell_type": "markdown",
   "id": "0f505b32",
   "metadata": {},
   "source": [
    "#### *As we can see from the previous results above, it is obvious that the Sales Ratio which is dependent on the division between the Assessed Value and the Sales Amount, is not consistent across the DataFrame, with cases of wrong evaluation of properties, or Sale Amount not tallying with the evaluation of the property, this also goes to show the reason for the low correlation between the value and the selling price of properties in this data set*"
   ]
  },
  {
   "cell_type": "markdown",
   "id": "6029998f",
   "metadata": {},
   "source": [
    "#### *Due to this, it would be near impossible to extract any valuable financial insight from this particular data set*"
   ]
  },
  {
   "cell_type": "code",
   "execution_count": 45,
   "id": "b385452d",
   "metadata": {
    "scrolled": true
   },
   "outputs": [
    {
     "data": {
      "text/html": [
       "<div>\n",
       "<style scoped>\n",
       "    .dataframe tbody tr th:only-of-type {\n",
       "        vertical-align: middle;\n",
       "    }\n",
       "\n",
       "    .dataframe tbody tr th {\n",
       "        vertical-align: top;\n",
       "    }\n",
       "\n",
       "    .dataframe thead th {\n",
       "        text-align: right;\n",
       "    }\n",
       "</style>\n",
       "<table border=\"1\" class=\"dataframe\">\n",
       "  <thead>\n",
       "    <tr style=\"text-align: right;\">\n",
       "      <th></th>\n",
       "      <th>Serial Number</th>\n",
       "      <th>List Year</th>\n",
       "      <th>Date Recorded</th>\n",
       "      <th>Town</th>\n",
       "      <th>Address</th>\n",
       "      <th>Assessed Value</th>\n",
       "      <th>Sale Amount</th>\n",
       "      <th>Sales Ratio</th>\n",
       "      <th>Property Type</th>\n",
       "      <th>Residential Type</th>\n",
       "      <th>Non Use Code</th>\n",
       "      <th>Assessor Remarks</th>\n",
       "      <th>Location</th>\n",
       "    </tr>\n",
       "  </thead>\n",
       "  <tbody>\n",
       "    <tr>\n",
       "      <th>0</th>\n",
       "      <td>2020348</td>\n",
       "      <td>2020</td>\n",
       "      <td>2021-09-13</td>\n",
       "      <td>Ansonia</td>\n",
       "      <td>230 WAKELEE AVE</td>\n",
       "      <td>150500.0</td>\n",
       "      <td>325000.0</td>\n",
       "      <td>0.463000</td>\n",
       "      <td>Commercial</td>\n",
       "      <td>Single Family</td>\n",
       "      <td>25 - Other</td>\n",
       "      <td>LOW SALE</td>\n",
       "      <td>POINT (-73.04455 41.33126)</td>\n",
       "    </tr>\n",
       "    <tr>\n",
       "      <th>1</th>\n",
       "      <td>20002</td>\n",
       "      <td>2020</td>\n",
       "      <td>2020-10-02</td>\n",
       "      <td>Ashford</td>\n",
       "      <td>390 TURNPIKE RD</td>\n",
       "      <td>253000.0</td>\n",
       "      <td>430000.0</td>\n",
       "      <td>0.588300</td>\n",
       "      <td>Residential</td>\n",
       "      <td>Single Family</td>\n",
       "      <td>14 - Foreclosure</td>\n",
       "      <td>LAKE CHAFFEE NEIGHBORHOOD</td>\n",
       "      <td>POINT (-72.16387 41.85129)</td>\n",
       "    </tr>\n",
       "    <tr>\n",
       "      <th>2</th>\n",
       "      <td>200212</td>\n",
       "      <td>2020</td>\n",
       "      <td>2021-03-09</td>\n",
       "      <td>Avon</td>\n",
       "      <td>5 CHESTNUT DRIVE</td>\n",
       "      <td>130400.0</td>\n",
       "      <td>179900.0</td>\n",
       "      <td>0.724800</td>\n",
       "      <td>Residential</td>\n",
       "      <td>Condo</td>\n",
       "      <td>07 - Change in Property</td>\n",
       "      <td>Not on open market</td>\n",
       "      <td>POINT (-72.87917 41.77202)</td>\n",
       "    </tr>\n",
       "    <tr>\n",
       "      <th>3</th>\n",
       "      <td>200243</td>\n",
       "      <td>2020</td>\n",
       "      <td>2021-04-13</td>\n",
       "      <td>Avon</td>\n",
       "      <td>111 NORTHINGTON DRIVE</td>\n",
       "      <td>619290.0</td>\n",
       "      <td>890000.0</td>\n",
       "      <td>0.695800</td>\n",
       "      <td>Residential</td>\n",
       "      <td>Single Family</td>\n",
       "      <td>07 - Change in Property</td>\n",
       "      <td>Not on open market</td>\n",
       "      <td>POINT (-72.87917 41.77202)</td>\n",
       "    </tr>\n",
       "    <tr>\n",
       "      <th>4</th>\n",
       "      <td>200377</td>\n",
       "      <td>2020</td>\n",
       "      <td>2021-07-02</td>\n",
       "      <td>Avon</td>\n",
       "      <td>70 FAR HILLS DRIVE</td>\n",
       "      <td>862330.0</td>\n",
       "      <td>1447500.0</td>\n",
       "      <td>0.595700</td>\n",
       "      <td>Residential</td>\n",
       "      <td>Single Family</td>\n",
       "      <td>07 - Change in Property</td>\n",
       "      <td>Not on open market</td>\n",
       "      <td>POINT (-72.87917 41.77202)</td>\n",
       "    </tr>\n",
       "    <tr>\n",
       "      <th>...</th>\n",
       "      <td>...</td>\n",
       "      <td>...</td>\n",
       "      <td>...</td>\n",
       "      <td>...</td>\n",
       "      <td>...</td>\n",
       "      <td>...</td>\n",
       "      <td>...</td>\n",
       "      <td>...</td>\n",
       "      <td>...</td>\n",
       "      <td>...</td>\n",
       "      <td>...</td>\n",
       "      <td>...</td>\n",
       "      <td>...</td>\n",
       "    </tr>\n",
       "    <tr>\n",
       "      <th>997156</th>\n",
       "      <td>190272</td>\n",
       "      <td>2019</td>\n",
       "      <td>2020-06-24</td>\n",
       "      <td>New London</td>\n",
       "      <td>4 BISHOP CT</td>\n",
       "      <td>60410.0</td>\n",
       "      <td>53100.0</td>\n",
       "      <td>1.137665</td>\n",
       "      <td>Single Family</td>\n",
       "      <td>Single Family</td>\n",
       "      <td>14 - Foreclosure</td>\n",
       "      <td>SALE OF FORECLOSED PROPERTY</td>\n",
       "      <td>POINT (-72.10694 41.32956)</td>\n",
       "    </tr>\n",
       "    <tr>\n",
       "      <th>997157</th>\n",
       "      <td>190284</td>\n",
       "      <td>2019</td>\n",
       "      <td>2019-11-27</td>\n",
       "      <td>Waterbury</td>\n",
       "      <td>126 PERKINS AVE</td>\n",
       "      <td>68280.0</td>\n",
       "      <td>76000.0</td>\n",
       "      <td>0.898400</td>\n",
       "      <td>Single Family</td>\n",
       "      <td>Single Family</td>\n",
       "      <td>25 - Other</td>\n",
       "      <td>PRIVATE SALE</td>\n",
       "      <td>POINT (-72.99548 41.54391)</td>\n",
       "    </tr>\n",
       "    <tr>\n",
       "      <th>997158</th>\n",
       "      <td>190129</td>\n",
       "      <td>2019</td>\n",
       "      <td>2020-04-27</td>\n",
       "      <td>Windsor Locks</td>\n",
       "      <td>19 HATHAWAY ST</td>\n",
       "      <td>121450.0</td>\n",
       "      <td>210000.0</td>\n",
       "      <td>0.578300</td>\n",
       "      <td>Single Family</td>\n",
       "      <td>Single Family</td>\n",
       "      <td>25 - Other</td>\n",
       "      <td>SALES RATIO</td>\n",
       "      <td>POINT (-72.62927 41.94154)</td>\n",
       "    </tr>\n",
       "    <tr>\n",
       "      <th>997159</th>\n",
       "      <td>190504</td>\n",
       "      <td>2019</td>\n",
       "      <td>2020-06-03</td>\n",
       "      <td>Middletown</td>\n",
       "      <td>8 BYSTREK DR</td>\n",
       "      <td>203360.0</td>\n",
       "      <td>280000.0</td>\n",
       "      <td>0.726300</td>\n",
       "      <td>Single Family</td>\n",
       "      <td>Single Family</td>\n",
       "      <td>14 - Foreclosure</td>\n",
       "      <td>SALE NOT SUBJECT TO MARKET</td>\n",
       "      <td>POINT (-72.64394 41.52834)</td>\n",
       "    </tr>\n",
       "    <tr>\n",
       "      <th>997160</th>\n",
       "      <td>190344</td>\n",
       "      <td>2019</td>\n",
       "      <td>2019-12-20</td>\n",
       "      <td>Milford</td>\n",
       "      <td>250 RESEARCH DR</td>\n",
       "      <td>4035970.0</td>\n",
       "      <td>7450000.0</td>\n",
       "      <td>0.541700</td>\n",
       "      <td>Single Family</td>\n",
       "      <td>Single Family</td>\n",
       "      <td>25 - Other</td>\n",
       "      <td>LOW SALE FOR NEIGHBORHOOD</td>\n",
       "      <td>POINT (-73.0424 41.23738)</td>\n",
       "    </tr>\n",
       "  </tbody>\n",
       "</table>\n",
       "<p>996514 rows × 13 columns</p>\n",
       "</div>"
      ],
      "text/plain": [
       "        Serial Number  List Year Date Recorded           Town  \\\n",
       "0             2020348       2020    2021-09-13        Ansonia   \n",
       "1               20002       2020    2020-10-02        Ashford   \n",
       "2              200212       2020    2021-03-09           Avon   \n",
       "3              200243       2020    2021-04-13           Avon   \n",
       "4              200377       2020    2021-07-02           Avon   \n",
       "...               ...        ...           ...            ...   \n",
       "997156         190272       2019    2020-06-24     New London   \n",
       "997157         190284       2019    2019-11-27      Waterbury   \n",
       "997158         190129       2019    2020-04-27  Windsor Locks   \n",
       "997159         190504       2019    2020-06-03     Middletown   \n",
       "997160         190344       2019    2019-12-20        Milford   \n",
       "\n",
       "                      Address  Assessed Value  Sale Amount  Sales Ratio  \\\n",
       "0             230 WAKELEE AVE        150500.0     325000.0     0.463000   \n",
       "1             390 TURNPIKE RD        253000.0     430000.0     0.588300   \n",
       "2            5 CHESTNUT DRIVE        130400.0     179900.0     0.724800   \n",
       "3       111 NORTHINGTON DRIVE        619290.0     890000.0     0.695800   \n",
       "4          70 FAR HILLS DRIVE        862330.0    1447500.0     0.595700   \n",
       "...                       ...             ...          ...          ...   \n",
       "997156            4 BISHOP CT         60410.0      53100.0     1.137665   \n",
       "997157        126 PERKINS AVE         68280.0      76000.0     0.898400   \n",
       "997158         19 HATHAWAY ST        121450.0     210000.0     0.578300   \n",
       "997159           8 BYSTREK DR        203360.0     280000.0     0.726300   \n",
       "997160        250 RESEARCH DR       4035970.0    7450000.0     0.541700   \n",
       "\n",
       "        Property Type Residential Type             Non Use Code  \\\n",
       "0          Commercial    Single Family               25 - Other   \n",
       "1         Residential    Single Family         14 - Foreclosure   \n",
       "2         Residential            Condo  07 - Change in Property   \n",
       "3         Residential    Single Family  07 - Change in Property   \n",
       "4         Residential    Single Family  07 - Change in Property   \n",
       "...               ...              ...                      ...   \n",
       "997156  Single Family    Single Family         14 - Foreclosure   \n",
       "997157  Single Family    Single Family               25 - Other   \n",
       "997158  Single Family    Single Family               25 - Other   \n",
       "997159  Single Family    Single Family         14 - Foreclosure   \n",
       "997160  Single Family    Single Family               25 - Other   \n",
       "\n",
       "                   Assessor Remarks                    Location  \n",
       "0                          LOW SALE  POINT (-73.04455 41.33126)  \n",
       "1         LAKE CHAFFEE NEIGHBORHOOD  POINT (-72.16387 41.85129)  \n",
       "2                Not on open market  POINT (-72.87917 41.77202)  \n",
       "3                Not on open market  POINT (-72.87917 41.77202)  \n",
       "4                Not on open market  POINT (-72.87917 41.77202)  \n",
       "...                             ...                         ...  \n",
       "997156  SALE OF FORECLOSED PROPERTY  POINT (-72.10694 41.32956)  \n",
       "997157                 PRIVATE SALE  POINT (-72.99548 41.54391)  \n",
       "997158                  SALES RATIO  POINT (-72.62927 41.94154)  \n",
       "997159   SALE NOT SUBJECT TO MARKET  POINT (-72.64394 41.52834)  \n",
       "997160    LOW SALE FOR NEIGHBORHOOD   POINT (-73.0424 41.23738)  \n",
       "\n",
       "[996514 rows x 13 columns]"
      ]
     },
     "execution_count": 45,
     "metadata": {},
     "output_type": "execute_result"
    }
   ],
   "source": [
    "# Group the DataFrame by the date column\n",
    "grouped = df.groupby('Date Recorded')\n",
    "\n",
    "# Filter out groups with more than one record\n",
    "duplicate_dates = grouped.filter(lambda x: len(x) > 1)\n",
    "\n",
    "# Print the scenarios where you have records with the same date\n",
    "duplicate_dates"
   ]
  },
  {
   "cell_type": "markdown",
   "id": "864843f5",
   "metadata": {},
   "source": [
    "#### *I just tried looking at the date column and I might have discovered another potential issue with the data set, it is safe to say today's analysis is inconclusive*"
   ]
  },
  {
   "cell_type": "markdown",
   "id": "2af24f22",
   "metadata": {},
   "source": [
    "### *There are so many issues with this data set, maybe once I am done with the challenge, I will have a look at this again, and probably work on it, oh no definately come back to this*"
   ]
  },
  {
   "cell_type": "code",
   "execution_count": null,
   "id": "5bc0fb01",
   "metadata": {},
   "outputs": [],
   "source": []
  }
 ],
 "metadata": {
  "kernelspec": {
   "display_name": "Python 3 (ipykernel)",
   "language": "python",
   "name": "python3"
  },
  "language_info": {
   "codemirror_mode": {
    "name": "ipython",
    "version": 3
   },
   "file_extension": ".py",
   "mimetype": "text/x-python",
   "name": "python",
   "nbconvert_exporter": "python",
   "pygments_lexer": "ipython3",
   "version": "3.9.7"
  }
 },
 "nbformat": 4,
 "nbformat_minor": 5
}
